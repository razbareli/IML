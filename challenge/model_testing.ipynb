{
 "cells": [
  {
   "cell_type": "code",
   "execution_count": 1208,
   "metadata": {
    "collapsed": true
   },
   "outputs": [],
   "source": [
    "\n",
    "from sklearn.ensemble import RandomForestClassifier\n",
    "from sklearn.ensemble import RandomForestRegressor\n",
    "\n",
    "from agoda_cancellation_estimator import AgodaCancellationEstimator\n",
    "from agoda_cancellation_prediction import load_data\n",
    "import pandas as pd\n",
    "import numpy as np\n"
   ]
  },
  {
   "cell_type": "code",
   "execution_count": 1209,
   "outputs": [
    {
     "data": {
      "text/plain": "          h_booking_id     booking_datetime         checkin_date  \\\n0 -9223194055642672935  2018-06-28 21:15:00  2018-07-09 00:00:00   \n1 -9222713784330706132  2018-08-10 22:31:00  2018-08-16 00:00:00   \n2 -9222411208325704942  2018-09-14 07:55:00  2018-09-14 00:00:00   \n3 -9222220845872895471  2018-06-25 07:33:00  2018-07-02 00:00:00   \n4 -9221127186162682116  2018-07-23 10:06:00  2018-08-09 00:00:00   \n\n         checkout_date  hotel_id hotel_country_code      hotel_live_date  \\\n0  2018-07-13 00:00:00      6452                 HK  2009-06-28 02:02:00   \n1  2018-08-17 00:00:00     47729                 CN  2011-06-07 11:52:00   \n2  2018-09-15 00:00:00    780431                 KR  2014-11-20 15:43:00   \n3  2018-07-03 00:00:00    291365                 JP  2011-11-21 12:27:00   \n4  2018-08-10 00:00:00    479046                 TH  2013-06-06 10:04:00   \n\n   hotel_star_rating accommadation_type_name charge_option  ...  \\\n0                4.0                   Hotel       Pay Now  ...   \n1                4.0                   Hotel     Pay Later  ...   \n2                4.0                   Hotel       Pay Now  ...   \n3                3.0                   Hotel     Pay Later  ...   \n4                3.0                  Resort     Pay Later  ...   \n\n   request_highfloor request_largebed  request_twinbeds request_airport  \\\n0              False            False             False           False   \n1                0.0              0.0               1.0             0.0   \n2                0.0              0.0               0.0             0.0   \n3                0.0              1.0               0.0             0.0   \n4                0.0              1.0               0.0             0.0   \n\n   request_earlycheckin  cancellation_datetime  hotel_area_code  \\\n0                 False                  False             1192   \n1                   0.0                  False             5617   \n2                   0.0                  False             3819   \n3                   0.0                  False             2379   \n4                   0.0             2018-07-23             1506   \n\n   hotel_brand_code hotel_chain_code hotel_city_code  \n0             False            False             142  \n1             902.0            600.0            1273  \n2             False            False            2799  \n3             466.0            236.0            1448  \n4             False            False             616  \n\n[5 rows x 39 columns]",
      "text/html": "<div>\n<style scoped>\n    .dataframe tbody tr th:only-of-type {\n        vertical-align: middle;\n    }\n\n    .dataframe tbody tr th {\n        vertical-align: top;\n    }\n\n    .dataframe thead th {\n        text-align: right;\n    }\n</style>\n<table border=\"1\" class=\"dataframe\">\n  <thead>\n    <tr style=\"text-align: right;\">\n      <th></th>\n      <th>h_booking_id</th>\n      <th>booking_datetime</th>\n      <th>checkin_date</th>\n      <th>checkout_date</th>\n      <th>hotel_id</th>\n      <th>hotel_country_code</th>\n      <th>hotel_live_date</th>\n      <th>hotel_star_rating</th>\n      <th>accommadation_type_name</th>\n      <th>charge_option</th>\n      <th>...</th>\n      <th>request_highfloor</th>\n      <th>request_largebed</th>\n      <th>request_twinbeds</th>\n      <th>request_airport</th>\n      <th>request_earlycheckin</th>\n      <th>cancellation_datetime</th>\n      <th>hotel_area_code</th>\n      <th>hotel_brand_code</th>\n      <th>hotel_chain_code</th>\n      <th>hotel_city_code</th>\n    </tr>\n  </thead>\n  <tbody>\n    <tr>\n      <th>0</th>\n      <td>-9223194055642672935</td>\n      <td>2018-06-28 21:15:00</td>\n      <td>2018-07-09 00:00:00</td>\n      <td>2018-07-13 00:00:00</td>\n      <td>6452</td>\n      <td>HK</td>\n      <td>2009-06-28 02:02:00</td>\n      <td>4.0</td>\n      <td>Hotel</td>\n      <td>Pay Now</td>\n      <td>...</td>\n      <td>False</td>\n      <td>False</td>\n      <td>False</td>\n      <td>False</td>\n      <td>False</td>\n      <td>False</td>\n      <td>1192</td>\n      <td>False</td>\n      <td>False</td>\n      <td>142</td>\n    </tr>\n    <tr>\n      <th>1</th>\n      <td>-9222713784330706132</td>\n      <td>2018-08-10 22:31:00</td>\n      <td>2018-08-16 00:00:00</td>\n      <td>2018-08-17 00:00:00</td>\n      <td>47729</td>\n      <td>CN</td>\n      <td>2011-06-07 11:52:00</td>\n      <td>4.0</td>\n      <td>Hotel</td>\n      <td>Pay Later</td>\n      <td>...</td>\n      <td>0.0</td>\n      <td>0.0</td>\n      <td>1.0</td>\n      <td>0.0</td>\n      <td>0.0</td>\n      <td>False</td>\n      <td>5617</td>\n      <td>902.0</td>\n      <td>600.0</td>\n      <td>1273</td>\n    </tr>\n    <tr>\n      <th>2</th>\n      <td>-9222411208325704942</td>\n      <td>2018-09-14 07:55:00</td>\n      <td>2018-09-14 00:00:00</td>\n      <td>2018-09-15 00:00:00</td>\n      <td>780431</td>\n      <td>KR</td>\n      <td>2014-11-20 15:43:00</td>\n      <td>4.0</td>\n      <td>Hotel</td>\n      <td>Pay Now</td>\n      <td>...</td>\n      <td>0.0</td>\n      <td>0.0</td>\n      <td>0.0</td>\n      <td>0.0</td>\n      <td>0.0</td>\n      <td>False</td>\n      <td>3819</td>\n      <td>False</td>\n      <td>False</td>\n      <td>2799</td>\n    </tr>\n    <tr>\n      <th>3</th>\n      <td>-9222220845872895471</td>\n      <td>2018-06-25 07:33:00</td>\n      <td>2018-07-02 00:00:00</td>\n      <td>2018-07-03 00:00:00</td>\n      <td>291365</td>\n      <td>JP</td>\n      <td>2011-11-21 12:27:00</td>\n      <td>3.0</td>\n      <td>Hotel</td>\n      <td>Pay Later</td>\n      <td>...</td>\n      <td>0.0</td>\n      <td>1.0</td>\n      <td>0.0</td>\n      <td>0.0</td>\n      <td>0.0</td>\n      <td>False</td>\n      <td>2379</td>\n      <td>466.0</td>\n      <td>236.0</td>\n      <td>1448</td>\n    </tr>\n    <tr>\n      <th>4</th>\n      <td>-9221127186162682116</td>\n      <td>2018-07-23 10:06:00</td>\n      <td>2018-08-09 00:00:00</td>\n      <td>2018-08-10 00:00:00</td>\n      <td>479046</td>\n      <td>TH</td>\n      <td>2013-06-06 10:04:00</td>\n      <td>3.0</td>\n      <td>Resort</td>\n      <td>Pay Later</td>\n      <td>...</td>\n      <td>0.0</td>\n      <td>1.0</td>\n      <td>0.0</td>\n      <td>0.0</td>\n      <td>0.0</td>\n      <td>2018-07-23</td>\n      <td>1506</td>\n      <td>False</td>\n      <td>False</td>\n      <td>616</td>\n    </tr>\n  </tbody>\n</table>\n<p>5 rows × 39 columns</p>\n</div>"
     },
     "execution_count": 1209,
     "metadata": {},
     "output_type": "execute_result"
    }
   ],
   "source": [
    "full_data = pd.read_csv(r\"C:\\Users\\97250\\PycharmProjects\\IML.HUJI\\datasets\\agoda_cancellation_train.csv\").fillna(False)\n",
    "test_data_w1 = pd.read_csv(r\"C:\\Users\\97250\\PycharmProjects\\IML.HUJI\\datasets\\test_set_week_1.csv\").dropna().drop_duplicates()\n",
    "full_data.head()"
   ],
   "metadata": {
    "collapsed": false,
    "pycharm": {
     "name": "#%%\n"
    }
   }
  },
  {
   "cell_type": "code",
   "execution_count": 1210,
   "outputs": [
    {
     "data": {
      "text/plain": "0        11\n1         6\n2         0\n3         7\n4        17\n         ..\n58654    17\n58655     1\n58656    62\n58657     8\n58658     5\nName: days_before_checkin, Length: 58659, dtype: int64"
     },
     "execution_count": 1210,
     "metadata": {},
     "output_type": "execute_result"
    }
   ],
   "source": [
    "\n",
    "full_data.accommadation_type_name = full_data.accommadation_type_name.astype('category')\n",
    "full_data.customer_nationality = full_data.customer_nationality.astype(str).astype('category')\n",
    "#full_data.hotel_id = full_data.hotel_id.astype('category')\n",
    "full_data.charge_option = full_data.charge_option.astype('category')\n",
    "#full_data.booking_datetime = full_data.booking_datetime.astype('category')\n",
    "full_data.cancellation_policy_code = full_data.cancellation_policy_code.astype('category')\n",
    "full_data['customer_nationality_codes'] = full_data.customer_nationality.cat.codes\n",
    "full_data['accommadation_type_name_codes'] = full_data.accommadation_type_name.cat.codes\n",
    "#full_data['hotel_id_codes'] = full_data.hotel_id.cat.codes\n",
    "full_data['charge_option_codes'] = full_data.charge_option.cat.codes\n",
    "full_data['cancellation_policy_code_codes'] = full_data.cancellation_policy_code.cat.codes\n",
    "b1 = full_data['booking_datetime'].aggregate(pd.Timestamp)\n",
    "b2 = full_data['checkin_date'].aggregate(pd.Timestamp)\n",
    "b2 = pd.to_datetime(full_data['checkin_date']).apply(lambda x: x.date())\n",
    "b1 = pd.to_datetime(full_data['booking_datetime']).apply(lambda x: x.date())\n",
    "# how many days before check-in the order was made\n",
    "full_data['days_before_checkin'] = [i.days for i in (b2.to_numpy() - b1.to_numpy())]\n",
    "full_data['days_before_checkin']\n"
   ],
   "metadata": {
    "collapsed": false,
    "pycharm": {
     "name": "#%%\n"
    }
   }
  },
  {
   "cell_type": "code",
   "execution_count": 1211,
   "outputs": [
    {
     "data": {
      "text/plain": "30"
     },
     "execution_count": 1211,
     "metadata": {},
     "output_type": "execute_result"
    }
   ],
   "source": [
    "(pd.Timestamp('2020-03-02')-pd.Timestamp('2020-02-01')).days"
   ],
   "metadata": {
    "collapsed": false,
    "pycharm": {
     "name": "#%%\n"
    }
   }
  },
  {
   "cell_type": "code",
   "execution_count": 1212,
   "outputs": [
    {
     "data": {
      "text/plain": "          booking_datetime cancellation_datetime  label\n0      2018-06-28 21:15:00                 False      0\n1      2018-08-10 22:31:00                 False      0\n2      2018-09-14 07:55:00                 False      0\n3      2018-06-25 07:33:00                 False      0\n4      2018-07-23 10:06:00            2018-07-23      2\n...                    ...                   ...    ...\n58654  2018-07-18 22:07:00            2018-07-22      4\n58655  2018-09-05 12:07:00                 False      0\n58656  2018-06-08 23:23:00                 False      0\n58657  2018-09-02 08:18:00                 False      0\n58658  2018-07-07 10:46:00                 False      0\n\n[58659 rows x 3 columns]",
      "text/html": "<div>\n<style scoped>\n    .dataframe tbody tr th:only-of-type {\n        vertical-align: middle;\n    }\n\n    .dataframe tbody tr th {\n        vertical-align: top;\n    }\n\n    .dataframe thead th {\n        text-align: right;\n    }\n</style>\n<table border=\"1\" class=\"dataframe\">\n  <thead>\n    <tr style=\"text-align: right;\">\n      <th></th>\n      <th>booking_datetime</th>\n      <th>cancellation_datetime</th>\n      <th>label</th>\n    </tr>\n  </thead>\n  <tbody>\n    <tr>\n      <th>0</th>\n      <td>2018-06-28 21:15:00</td>\n      <td>False</td>\n      <td>0</td>\n    </tr>\n    <tr>\n      <th>1</th>\n      <td>2018-08-10 22:31:00</td>\n      <td>False</td>\n      <td>0</td>\n    </tr>\n    <tr>\n      <th>2</th>\n      <td>2018-09-14 07:55:00</td>\n      <td>False</td>\n      <td>0</td>\n    </tr>\n    <tr>\n      <th>3</th>\n      <td>2018-06-25 07:33:00</td>\n      <td>False</td>\n      <td>0</td>\n    </tr>\n    <tr>\n      <th>4</th>\n      <td>2018-07-23 10:06:00</td>\n      <td>2018-07-23</td>\n      <td>2</td>\n    </tr>\n    <tr>\n      <th>...</th>\n      <td>...</td>\n      <td>...</td>\n      <td>...</td>\n    </tr>\n    <tr>\n      <th>58654</th>\n      <td>2018-07-18 22:07:00</td>\n      <td>2018-07-22</td>\n      <td>4</td>\n    </tr>\n    <tr>\n      <th>58655</th>\n      <td>2018-09-05 12:07:00</td>\n      <td>False</td>\n      <td>0</td>\n    </tr>\n    <tr>\n      <th>58656</th>\n      <td>2018-06-08 23:23:00</td>\n      <td>False</td>\n      <td>0</td>\n    </tr>\n    <tr>\n      <th>58657</th>\n      <td>2018-09-02 08:18:00</td>\n      <td>False</td>\n      <td>0</td>\n    </tr>\n    <tr>\n      <th>58658</th>\n      <td>2018-07-07 10:46:00</td>\n      <td>False</td>\n      <td>0</td>\n    </tr>\n  </tbody>\n</table>\n<p>58659 rows × 3 columns</p>\n</div>"
     },
     "execution_count": 1212,
     "metadata": {},
     "output_type": "execute_result"
    }
   ],
   "source": [
    "dates = {\"2018-07-17\", \"2018-07-18\", \"2018-07-19\", \"2018-07-20\", \"2018-07-21\", \"2018-07-22\", \"2018-07-23\"}\n",
    "end_cancellation_period = pd.Timestamp(\"2018-07-23\")\n",
    "# full_data['label'] = full_data.cancellation_datetime.map(lambda x: (end_cancellation_period - pd.Timestamp(x) ).days if x != 10000 else x)\n",
    "# full_data['label'] = full_data['label'].map(lambda x: 10000 if x<0 else x)\n",
    "full_data['label'] = full_data.cancellation_datetime.map(lambda x: bool(x) & True)\n",
    "c1 = full_data['cancellation_datetime'].apply(lambda x: pd.Timestamp(x) if x != False else x)\n",
    "c2 = full_data['booking_datetime'].apply(lambda x: pd.Timestamp(x))\n",
    "# c3 = [i.days for i in (c2.to_numpy() - c1.to_numpy())]\n",
    "# full_data['label'] = [i.days for i in (b2.to_numpy() - b1.to_numpy())]\n",
    "# full_data['label'] = full_data.cancellation_datetime.map(lambda x: x > '2018-08-15' and x < '2018-08-20')\n",
    "# c1 = full_data['cancellation_datetime'].apply(lambda x: (end_cancellation_period - pd.Timestamp(x) ).days if x != False else x)\n",
    "\n",
    "# c1\n",
    "# full_data['booking_datetime']\n",
    "\n",
    "# how many days after booking, the order was cancelled\n",
    "full_data['label'] = [abs((c1[i]-c2[i]).days)+1  if c1[i] != False else 0 for i in range(len(c2))]\n",
    "full_data.loc[:, ['booking_datetime','cancellation_datetime', 'label']]\n",
    "\n"
   ],
   "metadata": {
    "collapsed": false,
    "pycharm": {
     "name": "#%%\n"
    }
   }
  },
  {
   "cell_type": "code",
   "execution_count": 1213,
   "outputs": [
    {
     "data": {
      "text/plain": "(44087, 14572, 58659)"
     },
     "execution_count": 1213,
     "metadata": {},
     "output_type": "execute_result"
    }
   ],
   "source": [
    "# split the data into training set and test set\n",
    "train_ratio = 0.75\n",
    "rand_nums = np.random.random_sample(len(full_data))\n",
    "full_data['train'] =  rand_nums <= train_ratio\n",
    "full_data.train.value_counts()\n",
    "train_df = full_data[full_data.train]\n",
    "test_df = full_data[~full_data.train]\n",
    "len(train_df), len(test_df), len(full_data)"
   ],
   "metadata": {
    "collapsed": false,
    "pycharm": {
     "name": "#%%\n"
    }
   }
  },
  {
   "cell_type": "code",
   "execution_count": 1214,
   "outputs": [
    {
     "data": {
      "text/plain": "   hotel_id  days_before_checkin  accommadation_type_name_codes  \\\n1     47729                    6                             10   \n2    780431                    0                             10   \n3    291365                    7                             10   \n6    400966                    3                             19   \n7     69287                   23                             10   \n\n   charge_option_codes  hotel_star_rating  customer_nationality_codes  \\\n1                    0                4.0                         114   \n2                    1                4.0                         115   \n3                    0                3.0                         110   \n6                    1                3.5                         121   \n7                    0                3.5                         120   \n\n   cancellation_policy_code_codes  \n1                             152  \n2                             245  \n3                             151  \n6                             152  \n7                             152  ",
      "text/html": "<div>\n<style scoped>\n    .dataframe tbody tr th:only-of-type {\n        vertical-align: middle;\n    }\n\n    .dataframe tbody tr th {\n        vertical-align: top;\n    }\n\n    .dataframe thead th {\n        text-align: right;\n    }\n</style>\n<table border=\"1\" class=\"dataframe\">\n  <thead>\n    <tr style=\"text-align: right;\">\n      <th></th>\n      <th>hotel_id</th>\n      <th>days_before_checkin</th>\n      <th>accommadation_type_name_codes</th>\n      <th>charge_option_codes</th>\n      <th>hotel_star_rating</th>\n      <th>customer_nationality_codes</th>\n      <th>cancellation_policy_code_codes</th>\n    </tr>\n  </thead>\n  <tbody>\n    <tr>\n      <th>1</th>\n      <td>47729</td>\n      <td>6</td>\n      <td>10</td>\n      <td>0</td>\n      <td>4.0</td>\n      <td>114</td>\n      <td>152</td>\n    </tr>\n    <tr>\n      <th>2</th>\n      <td>780431</td>\n      <td>0</td>\n      <td>10</td>\n      <td>1</td>\n      <td>4.0</td>\n      <td>115</td>\n      <td>245</td>\n    </tr>\n    <tr>\n      <th>3</th>\n      <td>291365</td>\n      <td>7</td>\n      <td>10</td>\n      <td>0</td>\n      <td>3.0</td>\n      <td>110</td>\n      <td>151</td>\n    </tr>\n    <tr>\n      <th>6</th>\n      <td>400966</td>\n      <td>3</td>\n      <td>19</td>\n      <td>1</td>\n      <td>3.5</td>\n      <td>121</td>\n      <td>152</td>\n    </tr>\n    <tr>\n      <th>7</th>\n      <td>69287</td>\n      <td>23</td>\n      <td>10</td>\n      <td>0</td>\n      <td>3.5</td>\n      <td>120</td>\n      <td>152</td>\n    </tr>\n  </tbody>\n</table>\n</div>"
     },
     "execution_count": 1214,
     "metadata": {},
     "output_type": "execute_result"
    }
   ],
   "source": [
    "features_cols = [\"hotel_id\", \"days_before_checkin\",\n",
    "                \"accommadation_type_name_codes\",\n",
    "                 \"charge_option_codes\",\n",
    "                \"hotel_star_rating\",\n",
    "                \"customer_nationality_codes\",\n",
    "                 \"cancellation_policy_code_codes\"]\n",
    "train_features = train_df[features_cols]\n",
    "test_features = test_df[features_cols]\n",
    "train_features.head()\n"
   ],
   "metadata": {
    "collapsed": false,
    "pycharm": {
     "name": "#%%\n"
    }
   }
  },
  {
   "cell_type": "code",
   "execution_count": 1215,
   "outputs": [],
   "source": [
    "# features = full_data[[#\"h_booking_id\",\n",
    "#                       \"hotel_id\",\n",
    "#                       \"accommadation_type_name_codes\",\n",
    "#                       \"hotel_star_rating\",\n",
    "#                       \"customer_nationality_codes\"]]\n",
    "# features.head()\n"
   ],
   "metadata": {
    "collapsed": false,
    "pycharm": {
     "name": "#%%\n"
    }
   }
  },
  {
   "cell_type": "code",
   "execution_count": 1216,
   "outputs": [
    {
     "data": {
      "text/plain": "1     0\n2     0\n3     0\n6     0\n7    12\nName: label, dtype: int64"
     },
     "execution_count": 1216,
     "metadata": {},
     "output_type": "execute_result"
    }
   ],
   "source": [
    "train_labels = train_df[\"label\"]\n",
    "test_labels = test_df[\"label\"]\n",
    "train_labels.head()"
   ],
   "metadata": {
    "collapsed": false,
    "pycharm": {
     "name": "#%%\n"
    }
   }
  },
  {
   "cell_type": "code",
   "execution_count": 1216,
   "outputs": [],
   "source": [],
   "metadata": {
    "collapsed": false,
    "pycharm": {
     "name": "#%%\n"
    }
   }
  },
  {
   "cell_type": "code",
   "execution_count": 1217,
   "outputs": [],
   "source": [
    "random_classifier = RandomForestClassifier()\n",
    "random_forest_regressor = RandomForestRegressor()"
   ],
   "metadata": {
    "collapsed": false,
    "pycharm": {
     "name": "#%%\n"
    }
   }
  },
  {
   "cell_type": "code",
   "execution_count": 1218,
   "outputs": [
    {
     "data": {
      "text/plain": "array([[4.772900e+04, 6.000000e+00, 1.000000e+01, ..., 4.000000e+00,\n        1.140000e+02, 1.520000e+02],\n       [7.804310e+05, 0.000000e+00, 1.000000e+01, ..., 4.000000e+00,\n        1.150000e+02, 2.450000e+02],\n       [2.913650e+05, 7.000000e+00, 1.000000e+01, ..., 3.000000e+00,\n        1.100000e+02, 1.510000e+02],\n       ...,\n       [4.071560e+05, 6.200000e+01, 1.000000e+01, ..., 5.000000e+00,\n        2.500000e+01, 3.400000e+02],\n       [3.031860e+05, 8.000000e+00, 9.000000e+00, ..., 0.000000e+00,\n        8.200000e+01, 3.400000e+02],\n       [2.227632e+06, 5.000000e+00, 1.000000e+01, ..., 4.000000e+00,\n        2.500000e+01, 3.400000e+02]])"
     },
     "execution_count": 1218,
     "metadata": {},
     "output_type": "execute_result"
    }
   ],
   "source": [
    "y_train = train_df.label.values\n",
    "X_train = train_features.values\n",
    "y_test = test_df.label.values\n",
    "X_test = test_features.values\n",
    "X_train"
   ],
   "metadata": {
    "collapsed": false,
    "pycharm": {
     "name": "#%%\n"
    }
   }
  },
  {
   "cell_type": "code",
   "execution_count": 1219,
   "outputs": [],
   "source": [
    "model = random_classifier.fit(X_train,y_train)\n",
    "predicted_cancellations = model.predict(X_test)\n",
    "model2 = random_forest_regressor.fit(X_train,y_train)\n"
   ],
   "metadata": {
    "collapsed": false,
    "pycharm": {
     "name": "#%%\n"
    }
   }
  },
  {
   "cell_type": "code",
   "execution_count": 1220,
   "outputs": [
    {
     "data": {
      "text/plain": "array([10656,  3916], dtype=int64)"
     },
     "execution_count": 1220,
     "metadata": {},
     "output_type": "execute_result"
    }
   ],
   "source": [
    "# how many orders got actually cancelled\n",
    "y_test = np.array([False if i==0 else True for i in y_test])\n",
    "np.bincount(y_test)"
   ],
   "metadata": {
    "collapsed": false,
    "pycharm": {
     "name": "#%%\n"
    }
   }
  },
  {
   "cell_type": "code",
   "execution_count": 1225,
   "outputs": [
    {
     "data": {
      "text/plain": "array([13043,  1529], dtype=int64)"
     },
     "execution_count": 1225,
     "metadata": {},
     "output_type": "execute_result"
    }
   ],
   "source": [
    "# classifier model prediction\n",
    "predicted_cancellations = np.array([False if i==0 else True for i in predicted_cancellations])\n",
    "np.bincount(predicted_cancellations & y_test)"
   ],
   "metadata": {
    "collapsed": false,
    "pycharm": {
     "name": "#%%\n"
    }
   }
  },
  {
   "cell_type": "code",
   "execution_count": 1232,
   "outputs": [
    {
     "data": {
      "text/plain": "array([9189, 5383], dtype=int64)"
     },
     "execution_count": 1232,
     "metadata": {},
     "output_type": "execute_result"
    }
   ],
   "source": [
    "# regression model prediction - how many days after booking was the order cancelled? 0 means it was not\n",
    "reg_pred_cancellations = model2.predict(X_test)\n",
    "reg_pred_cancellations  = np.array([False if i < 2 else True for i in reg_pred_cancellations])\n",
    "np.bincount(reg_pred_cancellations)\n"
   ],
   "metadata": {
    "collapsed": false,
    "pycharm": {
     "name": "#%%\n"
    }
   }
  },
  {
   "cell_type": "code",
   "execution_count": 1228,
   "outputs": [
    {
     "data": {
      "text/plain": "array([32469,  1399,  3740,   572,   459,   379,   328,   259,   240,\n         190,   194,   187,   132,   151,   146,   138,   106,    84,\n          87,    79,    92,    94,    88,    76,    68,    77,    54,\n          75,    64,    58,    53,    52,    59,    55,    68,    53,\n          35,    34,    48,    47,    33,    21,    34,    47,    34,\n          33,    36,    29,    32,    29,    30,    15,    17,    21,\n          19,    33,    33,    36,    11,    29,    18,    14,     9,\n          18,    22,    11,    16,    13,    26,    17,    17,    11,\n          21,    14,    12,    13,    17,    14,    11,    13,    11,\n           9,    11,    17,     9,    12,    11,    15,    10,     6,\n           9,    13,     8,     9,     8,     9,    13,    17,     7,\n           6,     8,     5,     8,     5,     5,    12,     8,     6,\n           6,    11,     8,     9,     5,     3,    10,     7,     1,\n           4,     4,     6,     8,     3,     5,     3,     5,     0,\n           4,     1,     8,     6,     1,     5,     4,     4,     1,\n           6,     4,     4,     4,     4,     7,     8,     5,     0,\n           3,     1,     4,     2,     3,     2,     4,     2,     2,\n           8,     5,     1,     2,     2,     1,     5,     5,     2,\n           1,     3,     4,     3,     1,     1,     2,     2,     3,\n           0,     0,     2,     2,     2,     0,     1,     5,     7,\n           0,     7,     3,     5,     2,     0,     0,     3,     0,\n           0,     1,     3,     1,     1,     1,     0,     0,     0,\n           0,     0,     1,     0,     4,     1,     1,     0,     0,\n           2,     0,     0,     1,     2,     1,     1,     0,     0,\n           1,     0,     0,     0,     1,     0,     2,     1,     1,\n           3,     0,     0,     0,     0,     2,     1,     0,     0,\n           0,     1,     3,     0,     0,     0,     1,     2,     0,\n           1,     0,     1,     0,     2,     0,     0,     1,     0,\n           1,     0,     4,     0,     0,     0,     0,     0,     2,\n           0,     0,     1,     0,     0,     0,     1,     0,     1,\n           0,     0,     1,     0,     0,     0,     0,     1,     0,\n           1,     0,     0,     0,     2,     0,     1,     0,     0,\n           0,     1,     0,     0,     0,     0,     1,     0,     0,\n           1,     0,     0,     0,     0,     0,     0,     0,     0,\n           0,     0,     0,     0,     0,     0,     0,     0,     0,\n           0,     1], dtype=int64)"
     },
     "execution_count": 1228,
     "metadata": {},
     "output_type": "execute_result"
    }
   ],
   "source": [
    "# how many orders the model predicted were cancelled, on a data set he was trained on\n",
    "# np.bincount(model.predict(X_train))\n"
   ],
   "metadata": {
    "collapsed": false,
    "pycharm": {
     "name": "#%%\n"
    }
   }
  },
  {
   "cell_type": "code",
   "execution_count": null,
   "outputs": [],
   "source": [
    "#np.bincount(y_train)"
   ],
   "metadata": {
    "collapsed": false,
    "pycharm": {
     "name": "#%%\n"
    }
   }
  },
  {
   "cell_type": "code",
   "execution_count": null,
   "outputs": [],
   "source": [
    "#model.predict(X_test)"
   ],
   "metadata": {
    "collapsed": false,
    "pycharm": {
     "name": "#%%\n"
    }
   }
  },
  {
   "cell_type": "code",
   "execution_count": null,
   "outputs": [],
   "source": [
    "# 0 means the order was not cancelled, i means the order got cancelled i days after it was booked\n",
    "# np.bincount((predicted_cancellations & y_test)*test_df['cancelled_days_after_booking'])\n",
    "\n",
    "# model.predict(X_test)\n",
    "# model2.predict(X_test)"
   ],
   "metadata": {
    "collapsed": false,
    "pycharm": {
     "name": "#%%\n"
    }
   }
  },
  {
   "cell_type": "code",
   "execution_count": null,
   "outputs": [],
   "source": [
    "#np.bincount(model.predict(X_train) & y_train)"
   ],
   "metadata": {
    "collapsed": false,
    "pycharm": {
     "name": "#%%\n"
    }
   }
  },
  {
   "cell_type": "code",
   "execution_count": null,
   "outputs": [],
   "source": [
    "#full_data.label.value_counts()"
   ],
   "metadata": {
    "collapsed": false,
    "pycharm": {
     "name": "#%%\n"
    }
   }
  },
  {
   "cell_type": "code",
   "execution_count": null,
   "outputs": [],
   "source": [
    "#full_data[(full_data.cancellation_datetime > '2018-08-07') & (full_data.cancellation_datetime < '2018-08-20')]"
   ],
   "metadata": {
    "collapsed": false,
    "pycharm": {
     "name": "#%%\n"
    }
   }
  },
  {
   "cell_type": "code",
   "execution_count": null,
   "outputs": [],
   "source": [
    "test_data_w1 = pd.read_csv(r\"C:\\Users\\97250\\PycharmProjects\\IML.HUJI\\datasets\\test_set_week_1.csv\").dropna().drop_duplicates()\n",
    "test_data_w1.head()"
   ],
   "metadata": {
    "collapsed": false,
    "pycharm": {
     "name": "#%%\n"
    }
   }
  },
  {
   "cell_type": "code",
   "execution_count": null,
   "outputs": [],
   "source": [
    "# convert accomodation type name to codes"
   ],
   "metadata": {
    "collapsed": false,
    "pycharm": {
     "name": "#%%\n"
    }
   }
  }
 ],
 "metadata": {
  "kernelspec": {
   "display_name": "Python 3",
   "language": "python",
   "name": "python3"
  },
  "language_info": {
   "codemirror_mode": {
    "name": "ipython",
    "version": 2
   },
   "file_extension": ".py",
   "mimetype": "text/x-python",
   "name": "python",
   "nbconvert_exporter": "python",
   "pygments_lexer": "ipython2",
   "version": "2.7.6"
  }
 },
 "nbformat": 4,
 "nbformat_minor": 0
}