{
 "cells": [
  {
   "cell_type": "code",
   "execution_count": 53,
   "metadata": {
    "collapsed": true
   },
   "outputs": [],
   "source": [
    "\n",
    "from sklearn.ensemble import RandomForestClassifier\n",
    "from agoda_cancellation_estimator import AgodaCancellationEstimator\n",
    "from agoda_cancellation_prediction import load_data\n",
    "import pandas as pd\n",
    "import numpy as np"
   ]
  },
  {
   "cell_type": "code",
   "execution_count": 13,
   "outputs": [
    {
     "data": {
      "text/plain": "            h_booking_id     booking_datetime         checkin_date  \\\n16  -9216487696802692260  2018-08-28 22:40:00  2018-09-29 00:00:00   \n19  -9215494322833174318  2018-05-27 17:15:00  2018-08-20 00:00:00   \n22  -9215072291520077707  2018-05-31 22:43:00  2018-09-21 00:00:00   \n98  -9191194571019688471  2018-06-18 09:47:00  2018-09-07 00:00:00   \n137 -9179243281126879585  2018-03-13 16:09:00  2018-08-24 00:00:00   \n\n           checkout_date  hotel_id hotel_country_code      hotel_live_date  \\\n16   2018-09-30 00:00:00   2559209                 JP  2017-07-21 18:32:00   \n19   2018-08-21 00:00:00     11934                 NZ  2009-06-28 02:02:00   \n22   2018-09-22 00:00:00    108170                 TH  2009-06-28 02:02:00   \n98   2018-09-09 00:00:00   2411232                 US  2017-08-30 00:49:00   \n137  2018-08-28 00:00:00   1899389                 JP  2017-01-27 09:03:00   \n\n     hotel_star_rating accommadation_type_name charge_option  ...  \\\n16                 3.0                   Hotel       Pay Now  ...   \n19                 4.0                   Hotel     Pay Later  ...   \n22                 3.0                   Hotel     Pay Later  ...   \n98                 4.0                   Hotel     Pay Later  ...   \n137                4.0                   Hotel     Pay Later  ...   \n\n     request_highfloor request_largebed  request_twinbeds request_airport  \\\n16                 0.0              0.0               1.0             0.0   \n19                 0.0              0.0               1.0             0.0   \n22                 1.0              1.0               0.0             0.0   \n98                 0.0              0.0               0.0             0.0   \n137                1.0              0.0               1.0             0.0   \n\n     request_earlycheckin  cancellation_datetime  hotel_area_code  \\\n16                    0.0             2018-08-28             5092   \n19                    0.0             2018-07-13             3450   \n22                    0.0             2018-06-19              662   \n98                    0.0             2018-09-05             5540   \n137                   0.0             2018-03-23              643   \n\n     hotel_brand_code hotel_chain_code hotel_city_code  \n16              366.0            618.0            1403  \n19              159.0            232.0            2158  \n22              442.0            600.0             447  \n98              753.0            548.0             202  \n137              95.0            254.0            2249  \n\n[5 rows x 39 columns]",
      "text/html": "<div>\n<style scoped>\n    .dataframe tbody tr th:only-of-type {\n        vertical-align: middle;\n    }\n\n    .dataframe tbody tr th {\n        vertical-align: top;\n    }\n\n    .dataframe thead th {\n        text-align: right;\n    }\n</style>\n<table border=\"1\" class=\"dataframe\">\n  <thead>\n    <tr style=\"text-align: right;\">\n      <th></th>\n      <th>h_booking_id</th>\n      <th>booking_datetime</th>\n      <th>checkin_date</th>\n      <th>checkout_date</th>\n      <th>hotel_id</th>\n      <th>hotel_country_code</th>\n      <th>hotel_live_date</th>\n      <th>hotel_star_rating</th>\n      <th>accommadation_type_name</th>\n      <th>charge_option</th>\n      <th>...</th>\n      <th>request_highfloor</th>\n      <th>request_largebed</th>\n      <th>request_twinbeds</th>\n      <th>request_airport</th>\n      <th>request_earlycheckin</th>\n      <th>cancellation_datetime</th>\n      <th>hotel_area_code</th>\n      <th>hotel_brand_code</th>\n      <th>hotel_chain_code</th>\n      <th>hotel_city_code</th>\n    </tr>\n  </thead>\n  <tbody>\n    <tr>\n      <th>16</th>\n      <td>-9216487696802692260</td>\n      <td>2018-08-28 22:40:00</td>\n      <td>2018-09-29 00:00:00</td>\n      <td>2018-09-30 00:00:00</td>\n      <td>2559209</td>\n      <td>JP</td>\n      <td>2017-07-21 18:32:00</td>\n      <td>3.0</td>\n      <td>Hotel</td>\n      <td>Pay Now</td>\n      <td>...</td>\n      <td>0.0</td>\n      <td>0.0</td>\n      <td>1.0</td>\n      <td>0.0</td>\n      <td>0.0</td>\n      <td>2018-08-28</td>\n      <td>5092</td>\n      <td>366.0</td>\n      <td>618.0</td>\n      <td>1403</td>\n    </tr>\n    <tr>\n      <th>19</th>\n      <td>-9215494322833174318</td>\n      <td>2018-05-27 17:15:00</td>\n      <td>2018-08-20 00:00:00</td>\n      <td>2018-08-21 00:00:00</td>\n      <td>11934</td>\n      <td>NZ</td>\n      <td>2009-06-28 02:02:00</td>\n      <td>4.0</td>\n      <td>Hotel</td>\n      <td>Pay Later</td>\n      <td>...</td>\n      <td>0.0</td>\n      <td>0.0</td>\n      <td>1.0</td>\n      <td>0.0</td>\n      <td>0.0</td>\n      <td>2018-07-13</td>\n      <td>3450</td>\n      <td>159.0</td>\n      <td>232.0</td>\n      <td>2158</td>\n    </tr>\n    <tr>\n      <th>22</th>\n      <td>-9215072291520077707</td>\n      <td>2018-05-31 22:43:00</td>\n      <td>2018-09-21 00:00:00</td>\n      <td>2018-09-22 00:00:00</td>\n      <td>108170</td>\n      <td>TH</td>\n      <td>2009-06-28 02:02:00</td>\n      <td>3.0</td>\n      <td>Hotel</td>\n      <td>Pay Later</td>\n      <td>...</td>\n      <td>1.0</td>\n      <td>1.0</td>\n      <td>0.0</td>\n      <td>0.0</td>\n      <td>0.0</td>\n      <td>2018-06-19</td>\n      <td>662</td>\n      <td>442.0</td>\n      <td>600.0</td>\n      <td>447</td>\n    </tr>\n    <tr>\n      <th>98</th>\n      <td>-9191194571019688471</td>\n      <td>2018-06-18 09:47:00</td>\n      <td>2018-09-07 00:00:00</td>\n      <td>2018-09-09 00:00:00</td>\n      <td>2411232</td>\n      <td>US</td>\n      <td>2017-08-30 00:49:00</td>\n      <td>4.0</td>\n      <td>Hotel</td>\n      <td>Pay Later</td>\n      <td>...</td>\n      <td>0.0</td>\n      <td>0.0</td>\n      <td>0.0</td>\n      <td>0.0</td>\n      <td>0.0</td>\n      <td>2018-09-05</td>\n      <td>5540</td>\n      <td>753.0</td>\n      <td>548.0</td>\n      <td>202</td>\n    </tr>\n    <tr>\n      <th>137</th>\n      <td>-9179243281126879585</td>\n      <td>2018-03-13 16:09:00</td>\n      <td>2018-08-24 00:00:00</td>\n      <td>2018-08-28 00:00:00</td>\n      <td>1899389</td>\n      <td>JP</td>\n      <td>2017-01-27 09:03:00</td>\n      <td>4.0</td>\n      <td>Hotel</td>\n      <td>Pay Later</td>\n      <td>...</td>\n      <td>1.0</td>\n      <td>0.0</td>\n      <td>1.0</td>\n      <td>0.0</td>\n      <td>0.0</td>\n      <td>2018-03-23</td>\n      <td>643</td>\n      <td>95.0</td>\n      <td>254.0</td>\n      <td>2249</td>\n    </tr>\n  </tbody>\n</table>\n<p>5 rows × 39 columns</p>\n</div>"
     },
     "execution_count": 13,
     "metadata": {},
     "output_type": "execute_result"
    }
   ],
   "source": [
    "full_data = pd.read_csv(r\"C:\\Users\\97250\\PycharmProjects\\IML.HUJI\\datasets\\agoda_cancellation_train.csv\").dropna().drop_duplicates()\n",
    "full_data.head()"
   ],
   "metadata": {
    "collapsed": false,
    "pycharm": {
     "name": "#%%\n"
    }
   }
  },
  {
   "cell_type": "code",
   "execution_count": 40,
   "outputs": [],
   "source": [
    "\n",
    "full_data.accommadation_type_name = full_data.accommadation_type_name.astype('category')\n",
    "full_data.customer_nationality = full_data.customer_nationality.astype(str).astype('category')\n",
    "full_data.hotel_id = full_data.hotel_id.astype('category')\n",
    "full_data['customer_nationality_codes'] = full_data.customer_nationality.cat.codes\n",
    "full_data['accommadation_type_name_codes'] = full_data.accommadation_type_name.cat.codes\n",
    "full_data['hotel_id_codes'] = full_data.hotel_id.cat.codes"
   ],
   "metadata": {
    "collapsed": false,
    "pycharm": {
     "name": "#%%\n"
    }
   }
  },
  {
   "cell_type": "code",
   "execution_count": 63,
   "outputs": [
    {
     "data": {
      "text/plain": "      cancellation_datetime  label\n16               2018-08-28  False\n19               2018-07-13  False\n22               2018-06-19  False\n98               2018-09-05  False\n137              2018-03-23  False\n...                     ...    ...\n58548            2018-03-09  False\n58556            2018-07-22  False\n58572            2018-07-18  False\n58602            2018-05-20  False\n58626            2018-08-23  False\n\n[2365 rows x 2 columns]",
      "text/html": "<div>\n<style scoped>\n    .dataframe tbody tr th:only-of-type {\n        vertical-align: middle;\n    }\n\n    .dataframe tbody tr th {\n        vertical-align: top;\n    }\n\n    .dataframe thead th {\n        text-align: right;\n    }\n</style>\n<table border=\"1\" class=\"dataframe\">\n  <thead>\n    <tr style=\"text-align: right;\">\n      <th></th>\n      <th>cancellation_datetime</th>\n      <th>label</th>\n    </tr>\n  </thead>\n  <tbody>\n    <tr>\n      <th>16</th>\n      <td>2018-08-28</td>\n      <td>False</td>\n    </tr>\n    <tr>\n      <th>19</th>\n      <td>2018-07-13</td>\n      <td>False</td>\n    </tr>\n    <tr>\n      <th>22</th>\n      <td>2018-06-19</td>\n      <td>False</td>\n    </tr>\n    <tr>\n      <th>98</th>\n      <td>2018-09-05</td>\n      <td>False</td>\n    </tr>\n    <tr>\n      <th>137</th>\n      <td>2018-03-23</td>\n      <td>False</td>\n    </tr>\n    <tr>\n      <th>...</th>\n      <td>...</td>\n      <td>...</td>\n    </tr>\n    <tr>\n      <th>58548</th>\n      <td>2018-03-09</td>\n      <td>False</td>\n    </tr>\n    <tr>\n      <th>58556</th>\n      <td>2018-07-22</td>\n      <td>False</td>\n    </tr>\n    <tr>\n      <th>58572</th>\n      <td>2018-07-18</td>\n      <td>False</td>\n    </tr>\n    <tr>\n      <th>58602</th>\n      <td>2018-05-20</td>\n      <td>False</td>\n    </tr>\n    <tr>\n      <th>58626</th>\n      <td>2018-08-23</td>\n      <td>False</td>\n    </tr>\n  </tbody>\n</table>\n<p>2365 rows × 2 columns</p>\n</div>"
     },
     "execution_count": 63,
     "metadata": {},
     "output_type": "execute_result"
    }
   ],
   "source": [
    "full_data['label'] = full_data.cancellation_datetime.map(lambda x: x > '2018-08-07' and x < '2018-08-20')\n",
    "full_data.loc[:, ['cancellation_datetime', 'label']]"
   ],
   "metadata": {
    "collapsed": false,
    "pycharm": {
     "name": "#%%\n"
    }
   }
  },
  {
   "cell_type": "code",
   "execution_count": 86,
   "outputs": [
    {
     "data": {
      "text/plain": "(1794, 571, 2365)"
     },
     "execution_count": 86,
     "metadata": {},
     "output_type": "execute_result"
    }
   ],
   "source": [
    "train_ratio = 0.75\n",
    "rand_nums = np.random.random_sample(len(full_data))\n",
    "full_data['train'] =  rand_nums <= train_ratio\n",
    "full_data.train.value_counts()\n",
    "train_df = full_data[full_data.train]\n",
    "test_df = full_data[~full_data.train]\n",
    "len(train_df), len(test_df), len(full_data)"
   ],
   "metadata": {
    "collapsed": false,
    "pycharm": {
     "name": "#%%\n"
    }
   }
  },
  {
   "cell_type": "code",
   "execution_count": 74,
   "outputs": [
    {
     "data": {
      "text/plain": "    hotel_id  accommadation_type_name_codes  hotel_star_rating  \\\n16   2559209                              5                3.0   \n19     11934                              5                4.0   \n22    108170                              5                3.0   \n98   2411232                              5                4.0   \n137  1899389                              5                4.0   \n\n     customer_nationality_codes  \n16                           54  \n19                           36  \n22                           55  \n98                           61  \n137                          20  ",
      "text/html": "<div>\n<style scoped>\n    .dataframe tbody tr th:only-of-type {\n        vertical-align: middle;\n    }\n\n    .dataframe tbody tr th {\n        vertical-align: top;\n    }\n\n    .dataframe thead th {\n        text-align: right;\n    }\n</style>\n<table border=\"1\" class=\"dataframe\">\n  <thead>\n    <tr style=\"text-align: right;\">\n      <th></th>\n      <th>hotel_id</th>\n      <th>accommadation_type_name_codes</th>\n      <th>hotel_star_rating</th>\n      <th>customer_nationality_codes</th>\n    </tr>\n  </thead>\n  <tbody>\n    <tr>\n      <th>16</th>\n      <td>2559209</td>\n      <td>5</td>\n      <td>3.0</td>\n      <td>54</td>\n    </tr>\n    <tr>\n      <th>19</th>\n      <td>11934</td>\n      <td>5</td>\n      <td>4.0</td>\n      <td>36</td>\n    </tr>\n    <tr>\n      <th>22</th>\n      <td>108170</td>\n      <td>5</td>\n      <td>3.0</td>\n      <td>55</td>\n    </tr>\n    <tr>\n      <th>98</th>\n      <td>2411232</td>\n      <td>5</td>\n      <td>4.0</td>\n      <td>61</td>\n    </tr>\n    <tr>\n      <th>137</th>\n      <td>1899389</td>\n      <td>5</td>\n      <td>4.0</td>\n      <td>20</td>\n    </tr>\n  </tbody>\n</table>\n</div>"
     },
     "execution_count": 74,
     "metadata": {},
     "output_type": "execute_result"
    }
   ],
   "source": [
    "features_cols = [#\"h_booking_id\",\n",
    "                      \"hotel_id\",\n",
    "                      \"accommadation_type_name_codes\",\n",
    "                      \"hotel_star_rating\",\n",
    "                      \"customer_nationality_codes\"]\n",
    "train_features = train_df[features_cols]\n",
    "test_features = test_df[features_cols]\n",
    "train_features.head()\n"
   ],
   "metadata": {
    "collapsed": false,
    "pycharm": {
     "name": "#%%\n"
    }
   }
  },
  {
   "cell_type": "code",
   "execution_count": 42,
   "outputs": [
    {
     "data": {
      "text/plain": "    hotel_id  accommadation_type_name_codes  hotel_star_rating  \\\n16   2559209                              5                3.0   \n19     11934                              5                4.0   \n22    108170                              5                3.0   \n98   2411232                              5                4.0   \n137  1899389                              5                4.0   \n\n     customer_nationality_codes  \n16                           54  \n19                           36  \n22                           55  \n98                           61  \n137                          20  ",
      "text/html": "<div>\n<style scoped>\n    .dataframe tbody tr th:only-of-type {\n        vertical-align: middle;\n    }\n\n    .dataframe tbody tr th {\n        vertical-align: top;\n    }\n\n    .dataframe thead th {\n        text-align: right;\n    }\n</style>\n<table border=\"1\" class=\"dataframe\">\n  <thead>\n    <tr style=\"text-align: right;\">\n      <th></th>\n      <th>hotel_id</th>\n      <th>accommadation_type_name_codes</th>\n      <th>hotel_star_rating</th>\n      <th>customer_nationality_codes</th>\n    </tr>\n  </thead>\n  <tbody>\n    <tr>\n      <th>16</th>\n      <td>2559209</td>\n      <td>5</td>\n      <td>3.0</td>\n      <td>54</td>\n    </tr>\n    <tr>\n      <th>19</th>\n      <td>11934</td>\n      <td>5</td>\n      <td>4.0</td>\n      <td>36</td>\n    </tr>\n    <tr>\n      <th>22</th>\n      <td>108170</td>\n      <td>5</td>\n      <td>3.0</td>\n      <td>55</td>\n    </tr>\n    <tr>\n      <th>98</th>\n      <td>2411232</td>\n      <td>5</td>\n      <td>4.0</td>\n      <td>61</td>\n    </tr>\n    <tr>\n      <th>137</th>\n      <td>1899389</td>\n      <td>5</td>\n      <td>4.0</td>\n      <td>20</td>\n    </tr>\n  </tbody>\n</table>\n</div>"
     },
     "execution_count": 42,
     "metadata": {},
     "output_type": "execute_result"
    }
   ],
   "source": [
    "# features = full_data[[#\"h_booking_id\",\n",
    "#                       \"hotel_id\",\n",
    "#                       \"accommadation_type_name_codes\",\n",
    "#                       \"hotel_star_rating\",\n",
    "#                       \"customer_nationality_codes\"]]\n",
    "# features.head()\n"
   ],
   "metadata": {
    "collapsed": false,
    "pycharm": {
     "name": "#%%\n"
    }
   }
  },
  {
   "cell_type": "code",
   "execution_count": 75,
   "outputs": [
    {
     "data": {
      "text/plain": "16     2018-08-28\n19     2018-07-13\n22     2018-06-19\n98     2018-09-05\n137    2018-03-23\nName: cancellation_datetime, dtype: object"
     },
     "execution_count": 75,
     "metadata": {},
     "output_type": "execute_result"
    }
   ],
   "source": [
    "train_labels = train_df[\"cancellation_datetime\"]\n",
    "test_labels = test_df[\"cancellation_datetime\"]\n",
    "train_labels.head()"
   ],
   "metadata": {
    "collapsed": false,
    "pycharm": {
     "name": "#%%\n"
    }
   }
  },
  {
   "cell_type": "code",
   "execution_count": 11,
   "outputs": [
    {
     "data": {
      "text/plain": "16       2018-08-28\n19       2018-07-13\n22       2018-06-19\n98       2018-09-05\n137      2018-03-23\n            ...    \n58548    2018-03-09\n58556    2018-07-22\n58572    2018-07-18\n58602    2018-05-20\n58626    2018-08-23\nName: cancellation_datetime, Length: 2365, dtype: object"
     },
     "execution_count": 11,
     "metadata": {},
     "output_type": "execute_result"
    }
   ],
   "source": [
    "full_data['cancellation_datetime']"
   ],
   "metadata": {
    "collapsed": false,
    "pycharm": {
     "name": "#%%\n"
    }
   }
  },
  {
   "cell_type": "code",
   "execution_count": 79,
   "outputs": [],
   "source": [
    "random_classifier = RandomForestClassifier()"
   ],
   "metadata": {
    "collapsed": false,
    "pycharm": {
     "name": "#%%\n"
    }
   }
  },
  {
   "cell_type": "code",
   "execution_count": 84,
   "outputs": [],
   "source": [
    "y_train = train_df.label.values\n",
    "X_train = train_features.values\n",
    "y_test = test_df.label.values\n",
    "X_test = test_features.values"
   ],
   "metadata": {
    "collapsed": false,
    "pycharm": {
     "name": "#%%\n"
    }
   }
  },
  {
   "cell_type": "code",
   "execution_count": 81,
   "outputs": [],
   "source": [
    "model = random_classifier.fit(X_train,y_train)"
   ],
   "metadata": {
    "collapsed": false,
    "pycharm": {
     "name": "#%%\n"
    }
   }
  },
  {
   "cell_type": "code",
   "execution_count": 82,
   "outputs": [
    {
     "data": {
      "text/plain": "array([1549,  177], dtype=int64)"
     },
     "execution_count": 82,
     "metadata": {},
     "output_type": "execute_result"
    }
   ],
   "source": [
    "np.bincount(model.predict(X_train))"
   ],
   "metadata": {
    "collapsed": false,
    "pycharm": {
     "name": "#%%\n"
    }
   }
  },
  {
   "cell_type": "code",
   "execution_count": null,
   "outputs": [],
   "source": [
    "model.predict(X_test)"
   ],
   "metadata": {
    "collapsed": false,
    "pycharm": {
     "name": "#%%\n"
    }
   }
  },
  {
   "cell_type": "code",
   "execution_count": 85,
   "outputs": [
    {
     "data": {
      "text/plain": "array([611,  28], dtype=int64)"
     },
     "execution_count": 85,
     "metadata": {},
     "output_type": "execute_result"
    }
   ],
   "source": [
    "np.bincount(model.predict(X_test))"
   ],
   "metadata": {
    "collapsed": false,
    "pycharm": {
     "name": "#%%\n"
    }
   }
  },
  {
   "cell_type": "code",
   "execution_count": 67,
   "outputs": [
    {
     "data": {
      "text/plain": "False    2110\nTrue      255\nName: label, dtype: int64"
     },
     "execution_count": 67,
     "metadata": {},
     "output_type": "execute_result"
    }
   ],
   "source": [
    "full_data.label.value_counts()"
   ],
   "metadata": {
    "collapsed": false,
    "pycharm": {
     "name": "#%%\n"
    }
   }
  },
  {
   "cell_type": "code",
   "execution_count": 61,
   "outputs": [
    {
     "data": {
      "text/plain": "              h_booking_id     booking_datetime         checkin_date  \\\n138   -9178271518124899741  2018-06-13 01:39:00  2018-09-20 00:00:00   \n200   -9158997573325902499  2018-08-19 06:24:00  2018-09-15 00:00:00   \n225   -9150457930144649121  2018-07-24 01:47:00  2018-08-18 00:00:00   \n235   -9148315339177572723  2018-08-13 22:49:00  2018-08-18 00:00:00   \n412   -9093276767136234643  2018-06-27 23:39:00  2018-09-19 00:00:00   \n...                    ...                  ...                  ...   \n56263  8466705461484802320  2018-07-27 16:15:00  2018-08-24 00:00:00   \n56332  8488847189900316785  2018-07-10 12:45:00  2018-08-25 00:00:00   \n56435  8520771494965438804  2018-08-18 21:31:00  2018-08-20 00:00:00   \n56514  8546579788317624088  2018-08-02 11:58:00  2018-09-13 00:00:00   \n58328  9123584806569935439  2018-08-19 20:13:00  2018-09-20 00:00:00   \n\n             checkout_date hotel_id hotel_country_code      hotel_live_date  \\\n138    2018-09-24 00:00:00     2863                 GB  2011-08-31 16:49:00   \n200    2018-09-17 00:00:00  3129374                 AU  2017-11-06 16:37:00   \n225    2018-08-19 00:00:00  1602888                 IN  2017-03-17 11:34:00   \n235    2018-08-19 00:00:00  4910396                 MY  2018-04-13 19:52:00   \n412    2018-09-20 00:00:00   168985                 JP  2009-12-19 08:20:00   \n...                    ...      ...                ...                  ...   \n56263  2018-08-26 00:00:00  1105052                 JP  2015-11-25 11:59:00   \n56332  2018-08-26 00:00:00     9358                 JP  2009-06-28 02:02:00   \n56435  2018-08-21 00:00:00   240484                 JP  2010-11-18 07:08:00   \n56514  2018-09-18 00:00:00  3320368                 TH  2017-11-10 09:25:00   \n58328  2018-09-27 00:00:00  1095363                 JP  2015-10-20 05:25:00   \n\n       hotel_star_rating accommadation_type_name charge_option  ...  \\\n138                  3.0                  Hostel       Pay Now  ...   \n200                  4.5                   Hotel       Pay Now  ...   \n225                  5.0                   Hotel     Pay Later  ...   \n235                  2.0                   Hotel     Pay Later  ...   \n412                  3.5                   Hotel     Pay Later  ...   \n...                  ...                     ...           ...  ...   \n56263                3.0                   Hotel     Pay Later  ...   \n56332                4.0                   Hotel     Pay Later  ...   \n56435                3.5                   Hotel       Pay Now  ...   \n56514                4.0                   Hotel     Pay Later  ...   \n58328                3.0                   Hotel     Pay Later  ...   \n\n       request_earlycheckin cancellation_datetime  hotel_area_code  \\\n138                     0.0            2018-08-13             5134   \n200                     0.0            2018-08-19             4682   \n225                     0.0            2018-08-08             5679   \n235                     0.0            2018-08-16             5596   \n412                     0.0            2018-08-19              260   \n...                     ...                   ...              ...   \n56263                   0.0            2018-08-16             4975   \n56332                   0.0            2018-08-13              117   \n56435                   0.0            2018-08-19             1986   \n56514                   0.0            2018-08-16             3747   \n58328                   0.0            2018-08-19              643   \n\n      hotel_brand_code  hotel_chain_code  hotel_city_code  label  \\\n138              131.0             271.0             2538  False   \n200               63.0             291.0             1584  False   \n225              282.0              55.0             2796  False   \n235              745.0              94.0             2797  False   \n412              918.0             587.0             1014  False   \n...                ...               ...              ...    ...   \n56263            922.0             587.0              183  False   \n56332            463.0             103.0             1403  False   \n56435            777.0             181.0             1783  False   \n56514            278.0             473.0             2477  False   \n58328              9.0             583.0             2249  False   \n\n       customer_nationality_codes accommadation_type_name_codes hotel_id_codes  \n138                            58                             4             23  \n200                             1                             5           1347  \n225                            21                             5            876  \n235                            32                             5           1597  \n412                            58                             5            349  \n...                           ...                           ...            ...  \n56263                          58                             5            770  \n56332                          32                             5             69  \n56435                          20                             5            427  \n56514                          54                             5           1450  \n58328                          49                             5            768  \n\n[255 rows x 43 columns]",
      "text/html": "<div>\n<style scoped>\n    .dataframe tbody tr th:only-of-type {\n        vertical-align: middle;\n    }\n\n    .dataframe tbody tr th {\n        vertical-align: top;\n    }\n\n    .dataframe thead th {\n        text-align: right;\n    }\n</style>\n<table border=\"1\" class=\"dataframe\">\n  <thead>\n    <tr style=\"text-align: right;\">\n      <th></th>\n      <th>h_booking_id</th>\n      <th>booking_datetime</th>\n      <th>checkin_date</th>\n      <th>checkout_date</th>\n      <th>hotel_id</th>\n      <th>hotel_country_code</th>\n      <th>hotel_live_date</th>\n      <th>hotel_star_rating</th>\n      <th>accommadation_type_name</th>\n      <th>charge_option</th>\n      <th>...</th>\n      <th>request_earlycheckin</th>\n      <th>cancellation_datetime</th>\n      <th>hotel_area_code</th>\n      <th>hotel_brand_code</th>\n      <th>hotel_chain_code</th>\n      <th>hotel_city_code</th>\n      <th>label</th>\n      <th>customer_nationality_codes</th>\n      <th>accommadation_type_name_codes</th>\n      <th>hotel_id_codes</th>\n    </tr>\n  </thead>\n  <tbody>\n    <tr>\n      <th>138</th>\n      <td>-9178271518124899741</td>\n      <td>2018-06-13 01:39:00</td>\n      <td>2018-09-20 00:00:00</td>\n      <td>2018-09-24 00:00:00</td>\n      <td>2863</td>\n      <td>GB</td>\n      <td>2011-08-31 16:49:00</td>\n      <td>3.0</td>\n      <td>Hostel</td>\n      <td>Pay Now</td>\n      <td>...</td>\n      <td>0.0</td>\n      <td>2018-08-13</td>\n      <td>5134</td>\n      <td>131.0</td>\n      <td>271.0</td>\n      <td>2538</td>\n      <td>False</td>\n      <td>58</td>\n      <td>4</td>\n      <td>23</td>\n    </tr>\n    <tr>\n      <th>200</th>\n      <td>-9158997573325902499</td>\n      <td>2018-08-19 06:24:00</td>\n      <td>2018-09-15 00:00:00</td>\n      <td>2018-09-17 00:00:00</td>\n      <td>3129374</td>\n      <td>AU</td>\n      <td>2017-11-06 16:37:00</td>\n      <td>4.5</td>\n      <td>Hotel</td>\n      <td>Pay Now</td>\n      <td>...</td>\n      <td>0.0</td>\n      <td>2018-08-19</td>\n      <td>4682</td>\n      <td>63.0</td>\n      <td>291.0</td>\n      <td>1584</td>\n      <td>False</td>\n      <td>1</td>\n      <td>5</td>\n      <td>1347</td>\n    </tr>\n    <tr>\n      <th>225</th>\n      <td>-9150457930144649121</td>\n      <td>2018-07-24 01:47:00</td>\n      <td>2018-08-18 00:00:00</td>\n      <td>2018-08-19 00:00:00</td>\n      <td>1602888</td>\n      <td>IN</td>\n      <td>2017-03-17 11:34:00</td>\n      <td>5.0</td>\n      <td>Hotel</td>\n      <td>Pay Later</td>\n      <td>...</td>\n      <td>0.0</td>\n      <td>2018-08-08</td>\n      <td>5679</td>\n      <td>282.0</td>\n      <td>55.0</td>\n      <td>2796</td>\n      <td>False</td>\n      <td>21</td>\n      <td>5</td>\n      <td>876</td>\n    </tr>\n    <tr>\n      <th>235</th>\n      <td>-9148315339177572723</td>\n      <td>2018-08-13 22:49:00</td>\n      <td>2018-08-18 00:00:00</td>\n      <td>2018-08-19 00:00:00</td>\n      <td>4910396</td>\n      <td>MY</td>\n      <td>2018-04-13 19:52:00</td>\n      <td>2.0</td>\n      <td>Hotel</td>\n      <td>Pay Later</td>\n      <td>...</td>\n      <td>0.0</td>\n      <td>2018-08-16</td>\n      <td>5596</td>\n      <td>745.0</td>\n      <td>94.0</td>\n      <td>2797</td>\n      <td>False</td>\n      <td>32</td>\n      <td>5</td>\n      <td>1597</td>\n    </tr>\n    <tr>\n      <th>412</th>\n      <td>-9093276767136234643</td>\n      <td>2018-06-27 23:39:00</td>\n      <td>2018-09-19 00:00:00</td>\n      <td>2018-09-20 00:00:00</td>\n      <td>168985</td>\n      <td>JP</td>\n      <td>2009-12-19 08:20:00</td>\n      <td>3.5</td>\n      <td>Hotel</td>\n      <td>Pay Later</td>\n      <td>...</td>\n      <td>0.0</td>\n      <td>2018-08-19</td>\n      <td>260</td>\n      <td>918.0</td>\n      <td>587.0</td>\n      <td>1014</td>\n      <td>False</td>\n      <td>58</td>\n      <td>5</td>\n      <td>349</td>\n    </tr>\n    <tr>\n      <th>...</th>\n      <td>...</td>\n      <td>...</td>\n      <td>...</td>\n      <td>...</td>\n      <td>...</td>\n      <td>...</td>\n      <td>...</td>\n      <td>...</td>\n      <td>...</td>\n      <td>...</td>\n      <td>...</td>\n      <td>...</td>\n      <td>...</td>\n      <td>...</td>\n      <td>...</td>\n      <td>...</td>\n      <td>...</td>\n      <td>...</td>\n      <td>...</td>\n      <td>...</td>\n      <td>...</td>\n    </tr>\n    <tr>\n      <th>56263</th>\n      <td>8466705461484802320</td>\n      <td>2018-07-27 16:15:00</td>\n      <td>2018-08-24 00:00:00</td>\n      <td>2018-08-26 00:00:00</td>\n      <td>1105052</td>\n      <td>JP</td>\n      <td>2015-11-25 11:59:00</td>\n      <td>3.0</td>\n      <td>Hotel</td>\n      <td>Pay Later</td>\n      <td>...</td>\n      <td>0.0</td>\n      <td>2018-08-16</td>\n      <td>4975</td>\n      <td>922.0</td>\n      <td>587.0</td>\n      <td>183</td>\n      <td>False</td>\n      <td>58</td>\n      <td>5</td>\n      <td>770</td>\n    </tr>\n    <tr>\n      <th>56332</th>\n      <td>8488847189900316785</td>\n      <td>2018-07-10 12:45:00</td>\n      <td>2018-08-25 00:00:00</td>\n      <td>2018-08-26 00:00:00</td>\n      <td>9358</td>\n      <td>JP</td>\n      <td>2009-06-28 02:02:00</td>\n      <td>4.0</td>\n      <td>Hotel</td>\n      <td>Pay Later</td>\n      <td>...</td>\n      <td>0.0</td>\n      <td>2018-08-13</td>\n      <td>117</td>\n      <td>463.0</td>\n      <td>103.0</td>\n      <td>1403</td>\n      <td>False</td>\n      <td>32</td>\n      <td>5</td>\n      <td>69</td>\n    </tr>\n    <tr>\n      <th>56435</th>\n      <td>8520771494965438804</td>\n      <td>2018-08-18 21:31:00</td>\n      <td>2018-08-20 00:00:00</td>\n      <td>2018-08-21 00:00:00</td>\n      <td>240484</td>\n      <td>JP</td>\n      <td>2010-11-18 07:08:00</td>\n      <td>3.5</td>\n      <td>Hotel</td>\n      <td>Pay Now</td>\n      <td>...</td>\n      <td>0.0</td>\n      <td>2018-08-19</td>\n      <td>1986</td>\n      <td>777.0</td>\n      <td>181.0</td>\n      <td>1783</td>\n      <td>False</td>\n      <td>20</td>\n      <td>5</td>\n      <td>427</td>\n    </tr>\n    <tr>\n      <th>56514</th>\n      <td>8546579788317624088</td>\n      <td>2018-08-02 11:58:00</td>\n      <td>2018-09-13 00:00:00</td>\n      <td>2018-09-18 00:00:00</td>\n      <td>3320368</td>\n      <td>TH</td>\n      <td>2017-11-10 09:25:00</td>\n      <td>4.0</td>\n      <td>Hotel</td>\n      <td>Pay Later</td>\n      <td>...</td>\n      <td>0.0</td>\n      <td>2018-08-16</td>\n      <td>3747</td>\n      <td>278.0</td>\n      <td>473.0</td>\n      <td>2477</td>\n      <td>False</td>\n      <td>54</td>\n      <td>5</td>\n      <td>1450</td>\n    </tr>\n    <tr>\n      <th>58328</th>\n      <td>9123584806569935439</td>\n      <td>2018-08-19 20:13:00</td>\n      <td>2018-09-20 00:00:00</td>\n      <td>2018-09-27 00:00:00</td>\n      <td>1095363</td>\n      <td>JP</td>\n      <td>2015-10-20 05:25:00</td>\n      <td>3.0</td>\n      <td>Hotel</td>\n      <td>Pay Later</td>\n      <td>...</td>\n      <td>0.0</td>\n      <td>2018-08-19</td>\n      <td>643</td>\n      <td>9.0</td>\n      <td>583.0</td>\n      <td>2249</td>\n      <td>False</td>\n      <td>49</td>\n      <td>5</td>\n      <td>768</td>\n    </tr>\n  </tbody>\n</table>\n<p>255 rows × 43 columns</p>\n</div>"
     },
     "execution_count": 61,
     "metadata": {},
     "output_type": "execute_result"
    }
   ],
   "source": [
    "full_data[(full_data.cancellation_datetime > '2018-08-07') & (full_data.cancellation_datetime < '2018-08-20')]"
   ],
   "metadata": {
    "collapsed": false,
    "pycharm": {
     "name": "#%%\n"
    }
   }
  }
 ],
 "metadata": {
  "kernelspec": {
   "display_name": "Python 3",
   "language": "python",
   "name": "python3"
  },
  "language_info": {
   "codemirror_mode": {
    "name": "ipython",
    "version": 2
   },
   "file_extension": ".py",
   "mimetype": "text/x-python",
   "name": "python",
   "nbconvert_exporter": "python",
   "pygments_lexer": "ipython2",
   "version": "2.7.6"
  }
 },
 "nbformat": 4,
 "nbformat_minor": 0
}