{
 "cells": [
  {
   "cell_type": "code",
   "execution_count": 653,
   "metadata": {
    "collapsed": true
   },
   "outputs": [],
   "source": [
    "\n",
    "from sklearn.ensemble import RandomForestClassifier\n",
    "from sklearn.ensemble import RandomForestRegressor\n",
    "from agoda_cancellation_estimator import AgodaCancellationEstimator\n",
    "from agoda_cancellation_prediction import load_data\n",
    "import pandas as pd\n",
    "import numpy as np\n"
   ]
  },
  {
   "cell_type": "code",
   "execution_count": 654,
   "outputs": [
    {
     "data": {
      "text/plain": "          h_booking_id     booking_datetime         checkin_date  \\\n0 -9223194055642672935  2018-06-28 21:15:00  2018-07-09 00:00:00   \n1 -9222713784330706132  2018-08-10 22:31:00  2018-08-16 00:00:00   \n2 -9222411208325704942  2018-09-14 07:55:00  2018-09-14 00:00:00   \n3 -9222220845872895471  2018-06-25 07:33:00  2018-07-02 00:00:00   \n4 -9221127186162682116  2018-07-23 10:06:00  2018-08-09 00:00:00   \n\n         checkout_date  hotel_id hotel_country_code      hotel_live_date  \\\n0  2018-07-13 00:00:00      6452                 HK  2009-06-28 02:02:00   \n1  2018-08-17 00:00:00     47729                 CN  2011-06-07 11:52:00   \n2  2018-09-15 00:00:00    780431                 KR  2014-11-20 15:43:00   \n3  2018-07-03 00:00:00    291365                 JP  2011-11-21 12:27:00   \n4  2018-08-10 00:00:00    479046                 TH  2013-06-06 10:04:00   \n\n   hotel_star_rating accommadation_type_name charge_option  ...  \\\n0                4.0                   Hotel       Pay Now  ...   \n1                4.0                   Hotel     Pay Later  ...   \n2                4.0                   Hotel       Pay Now  ...   \n3                3.0                   Hotel     Pay Later  ...   \n4                3.0                  Resort     Pay Later  ...   \n\n   request_highfloor request_largebed  request_twinbeds request_airport  \\\n0              False            False             False           False   \n1                0.0              0.0               1.0             0.0   \n2                0.0              0.0               0.0             0.0   \n3                0.0              1.0               0.0             0.0   \n4                0.0              1.0               0.0             0.0   \n\n   request_earlycheckin  cancellation_datetime  hotel_area_code  \\\n0                 False                  False             1192   \n1                   0.0                  False             5617   \n2                   0.0                  False             3819   \n3                   0.0                  False             2379   \n4                   0.0             2018-07-23             1506   \n\n   hotel_brand_code hotel_chain_code hotel_city_code  \n0             False            False             142  \n1             902.0            600.0            1273  \n2             False            False            2799  \n3             466.0            236.0            1448  \n4             False            False             616  \n\n[5 rows x 39 columns]",
      "text/html": "<div>\n<style scoped>\n    .dataframe tbody tr th:only-of-type {\n        vertical-align: middle;\n    }\n\n    .dataframe tbody tr th {\n        vertical-align: top;\n    }\n\n    .dataframe thead th {\n        text-align: right;\n    }\n</style>\n<table border=\"1\" class=\"dataframe\">\n  <thead>\n    <tr style=\"text-align: right;\">\n      <th></th>\n      <th>h_booking_id</th>\n      <th>booking_datetime</th>\n      <th>checkin_date</th>\n      <th>checkout_date</th>\n      <th>hotel_id</th>\n      <th>hotel_country_code</th>\n      <th>hotel_live_date</th>\n      <th>hotel_star_rating</th>\n      <th>accommadation_type_name</th>\n      <th>charge_option</th>\n      <th>...</th>\n      <th>request_highfloor</th>\n      <th>request_largebed</th>\n      <th>request_twinbeds</th>\n      <th>request_airport</th>\n      <th>request_earlycheckin</th>\n      <th>cancellation_datetime</th>\n      <th>hotel_area_code</th>\n      <th>hotel_brand_code</th>\n      <th>hotel_chain_code</th>\n      <th>hotel_city_code</th>\n    </tr>\n  </thead>\n  <tbody>\n    <tr>\n      <th>0</th>\n      <td>-9223194055642672935</td>\n      <td>2018-06-28 21:15:00</td>\n      <td>2018-07-09 00:00:00</td>\n      <td>2018-07-13 00:00:00</td>\n      <td>6452</td>\n      <td>HK</td>\n      <td>2009-06-28 02:02:00</td>\n      <td>4.0</td>\n      <td>Hotel</td>\n      <td>Pay Now</td>\n      <td>...</td>\n      <td>False</td>\n      <td>False</td>\n      <td>False</td>\n      <td>False</td>\n      <td>False</td>\n      <td>False</td>\n      <td>1192</td>\n      <td>False</td>\n      <td>False</td>\n      <td>142</td>\n    </tr>\n    <tr>\n      <th>1</th>\n      <td>-9222713784330706132</td>\n      <td>2018-08-10 22:31:00</td>\n      <td>2018-08-16 00:00:00</td>\n      <td>2018-08-17 00:00:00</td>\n      <td>47729</td>\n      <td>CN</td>\n      <td>2011-06-07 11:52:00</td>\n      <td>4.0</td>\n      <td>Hotel</td>\n      <td>Pay Later</td>\n      <td>...</td>\n      <td>0.0</td>\n      <td>0.0</td>\n      <td>1.0</td>\n      <td>0.0</td>\n      <td>0.0</td>\n      <td>False</td>\n      <td>5617</td>\n      <td>902.0</td>\n      <td>600.0</td>\n      <td>1273</td>\n    </tr>\n    <tr>\n      <th>2</th>\n      <td>-9222411208325704942</td>\n      <td>2018-09-14 07:55:00</td>\n      <td>2018-09-14 00:00:00</td>\n      <td>2018-09-15 00:00:00</td>\n      <td>780431</td>\n      <td>KR</td>\n      <td>2014-11-20 15:43:00</td>\n      <td>4.0</td>\n      <td>Hotel</td>\n      <td>Pay Now</td>\n      <td>...</td>\n      <td>0.0</td>\n      <td>0.0</td>\n      <td>0.0</td>\n      <td>0.0</td>\n      <td>0.0</td>\n      <td>False</td>\n      <td>3819</td>\n      <td>False</td>\n      <td>False</td>\n      <td>2799</td>\n    </tr>\n    <tr>\n      <th>3</th>\n      <td>-9222220845872895471</td>\n      <td>2018-06-25 07:33:00</td>\n      <td>2018-07-02 00:00:00</td>\n      <td>2018-07-03 00:00:00</td>\n      <td>291365</td>\n      <td>JP</td>\n      <td>2011-11-21 12:27:00</td>\n      <td>3.0</td>\n      <td>Hotel</td>\n      <td>Pay Later</td>\n      <td>...</td>\n      <td>0.0</td>\n      <td>1.0</td>\n      <td>0.0</td>\n      <td>0.0</td>\n      <td>0.0</td>\n      <td>False</td>\n      <td>2379</td>\n      <td>466.0</td>\n      <td>236.0</td>\n      <td>1448</td>\n    </tr>\n    <tr>\n      <th>4</th>\n      <td>-9221127186162682116</td>\n      <td>2018-07-23 10:06:00</td>\n      <td>2018-08-09 00:00:00</td>\n      <td>2018-08-10 00:00:00</td>\n      <td>479046</td>\n      <td>TH</td>\n      <td>2013-06-06 10:04:00</td>\n      <td>3.0</td>\n      <td>Resort</td>\n      <td>Pay Later</td>\n      <td>...</td>\n      <td>0.0</td>\n      <td>1.0</td>\n      <td>0.0</td>\n      <td>0.0</td>\n      <td>0.0</td>\n      <td>2018-07-23</td>\n      <td>1506</td>\n      <td>False</td>\n      <td>False</td>\n      <td>616</td>\n    </tr>\n  </tbody>\n</table>\n<p>5 rows × 39 columns</p>\n</div>"
     },
     "execution_count": 654,
     "metadata": {},
     "output_type": "execute_result"
    }
   ],
   "source": [
    "full_data = pd.read_csv(r\"C:\\Users\\97250\\PycharmProjects\\IML.HUJI\\datasets\\agoda_cancellation_train.csv\").fillna(False)\n",
    "test_data_w1 = pd.read_csv(r\"C:\\Users\\97250\\PycharmProjects\\IML.HUJI\\datasets\\test_set_week_1.csv\").dropna().drop_duplicates()\n",
    "full_data.head()"
   ],
   "metadata": {
    "collapsed": false,
    "pycharm": {
     "name": "#%%\n"
    }
   }
  },
  {
   "cell_type": "code",
   "execution_count": 655,
   "outputs": [],
   "source": [
    "\n",
    "full_data.accommadation_type_name = full_data.accommadation_type_name.astype('category')\n",
    "full_data.customer_nationality = full_data.customer_nationality.astype(str).astype('category')\n",
    "#full_data.hotel_id = full_data.hotel_id.astype('category')\n",
    "full_data.charge_option = full_data.charge_option.astype('category')\n",
    "#full_data.booking_datetime = full_data.booking_datetime.astype('category')\n",
    "full_data.cancellation_policy_code = full_data.cancellation_policy_code.astype('category')\n",
    "full_data['customer_nationality_codes'] = full_data.customer_nationality.cat.codes\n",
    "full_data['accommadation_type_name_codes'] = full_data.accommadation_type_name.cat.codes\n",
    "#full_data['hotel_id_codes'] = full_data.hotel_id.cat.codes\n",
    "full_data['charge_option_codes'] = full_data.charge_option.cat.codes\n",
    "full_data['cancellation_policy_code_codes'] = full_data.cancellation_policy_code.cat.codes\n",
    "b1 = full_data['booking_datetime'].aggregate(pd.Timestamp)\n",
    "b2 = full_data['checkin_date'].aggregate(pd.Timestamp)\n",
    "b2 = pd.to_datetime(full_data['checkin_date']).apply(lambda x: x.date())\n",
    "b1 = pd.to_datetime(full_data['booking_datetime']).apply(lambda x: x.date())\n",
    "\n",
    "full_data['days_before_checkin'] = [i.days for i in (b2.to_numpy() - b1.to_numpy())]\n"
   ],
   "metadata": {
    "collapsed": false,
    "pycharm": {
     "name": "#%%\n"
    }
   }
  },
  {
   "cell_type": "code",
   "execution_count": 656,
   "outputs": [
    {
     "data": {
      "text/plain": "30"
     },
     "execution_count": 656,
     "metadata": {},
     "output_type": "execute_result"
    }
   ],
   "source": [
    "(pd.Timestamp('2020-03-02')-pd.Timestamp('2020-02-01')).days"
   ],
   "metadata": {
    "collapsed": false,
    "pycharm": {
     "name": "#%%\n"
    }
   }
  },
  {
   "cell_type": "code",
   "execution_count": 657,
   "outputs": [
    {
     "data": {
      "text/plain": "      cancellation_datetime  label\n0                     False  False\n1                     False  False\n2                     False  False\n3                     False  False\n4                2018-07-23   True\n...                     ...    ...\n58654            2018-07-22   True\n58655                 False  False\n58656                 False  False\n58657                 False  False\n58658                 False  False\n\n[58659 rows x 2 columns]",
      "text/html": "<div>\n<style scoped>\n    .dataframe tbody tr th:only-of-type {\n        vertical-align: middle;\n    }\n\n    .dataframe tbody tr th {\n        vertical-align: top;\n    }\n\n    .dataframe thead th {\n        text-align: right;\n    }\n</style>\n<table border=\"1\" class=\"dataframe\">\n  <thead>\n    <tr style=\"text-align: right;\">\n      <th></th>\n      <th>cancellation_datetime</th>\n      <th>label</th>\n    </tr>\n  </thead>\n  <tbody>\n    <tr>\n      <th>0</th>\n      <td>False</td>\n      <td>False</td>\n    </tr>\n    <tr>\n      <th>1</th>\n      <td>False</td>\n      <td>False</td>\n    </tr>\n    <tr>\n      <th>2</th>\n      <td>False</td>\n      <td>False</td>\n    </tr>\n    <tr>\n      <th>3</th>\n      <td>False</td>\n      <td>False</td>\n    </tr>\n    <tr>\n      <th>4</th>\n      <td>2018-07-23</td>\n      <td>True</td>\n    </tr>\n    <tr>\n      <th>...</th>\n      <td>...</td>\n      <td>...</td>\n    </tr>\n    <tr>\n      <th>58654</th>\n      <td>2018-07-22</td>\n      <td>True</td>\n    </tr>\n    <tr>\n      <th>58655</th>\n      <td>False</td>\n      <td>False</td>\n    </tr>\n    <tr>\n      <th>58656</th>\n      <td>False</td>\n      <td>False</td>\n    </tr>\n    <tr>\n      <th>58657</th>\n      <td>False</td>\n      <td>False</td>\n    </tr>\n    <tr>\n      <th>58658</th>\n      <td>False</td>\n      <td>False</td>\n    </tr>\n  </tbody>\n</table>\n<p>58659 rows × 2 columns</p>\n</div>"
     },
     "execution_count": 657,
     "metadata": {},
     "output_type": "execute_result"
    }
   ],
   "source": [
    "dates = {\"2018-07-17\", \"2018-07-18\", \"2018-07-19\", \"2018-07-20\", \"2018-07-21\", \"2018-07-22\", \"2018-07-23\"}\n",
    "# full_data['label'] = full_data.cancellation_datetime.map(lambda x: bool(x) & True & (x in dates))\n",
    "full_data['label'] = full_data.cancellation_datetime.map(lambda x: bool(x) & True)\n",
    "# full_data['label'] = full_data.cancellation_datetime.map(lambda x: x > '2018-08-15' and x < '2018-08-20')\n",
    "full_data.loc[:, ['cancellation_datetime', 'label']]"
   ],
   "metadata": {
    "collapsed": false,
    "pycharm": {
     "name": "#%%\n"
    }
   }
  },
  {
   "cell_type": "code",
   "execution_count": 658,
   "outputs": [
    {
     "data": {
      "text/plain": "(43939, 14720, 58659)"
     },
     "execution_count": 658,
     "metadata": {},
     "output_type": "execute_result"
    }
   ],
   "source": [
    "# split the data into training set and test set\n",
    "train_ratio = 0.75\n",
    "rand_nums = np.random.random_sample(len(full_data))\n",
    "full_data['train'] =  rand_nums <= train_ratio\n",
    "full_data.train.value_counts()\n",
    "train_df = full_data[full_data.train]\n",
    "test_df = full_data[~full_data.train]\n",
    "len(train_df), len(test_df), len(full_data)"
   ],
   "metadata": {
    "collapsed": false,
    "pycharm": {
     "name": "#%%\n"
    }
   }
  },
  {
   "cell_type": "code",
   "execution_count": 659,
   "outputs": [
    {
     "data": {
      "text/plain": "   hotel_id  days_before_checkin  accommadation_type_name_codes  \\\n2    780431                    0                             10   \n3    291365                    7                             10   \n5     59272                  110                             16   \n6    400966                    3                             19   \n7     69287                   23                             10   \n\n   charge_option_codes  hotel_star_rating  customer_nationality_codes  \\\n2                    1                4.0                         115   \n3                    0                3.0                         110   \n5                    0                3.0                         127   \n6                    1                3.5                         121   \n7                    0                3.5                         120   \n\n   cancellation_policy_code_codes  \n2                             245  \n3                             151  \n5                             694  \n6                             152  \n7                             152  ",
      "text/html": "<div>\n<style scoped>\n    .dataframe tbody tr th:only-of-type {\n        vertical-align: middle;\n    }\n\n    .dataframe tbody tr th {\n        vertical-align: top;\n    }\n\n    .dataframe thead th {\n        text-align: right;\n    }\n</style>\n<table border=\"1\" class=\"dataframe\">\n  <thead>\n    <tr style=\"text-align: right;\">\n      <th></th>\n      <th>hotel_id</th>\n      <th>days_before_checkin</th>\n      <th>accommadation_type_name_codes</th>\n      <th>charge_option_codes</th>\n      <th>hotel_star_rating</th>\n      <th>customer_nationality_codes</th>\n      <th>cancellation_policy_code_codes</th>\n    </tr>\n  </thead>\n  <tbody>\n    <tr>\n      <th>2</th>\n      <td>780431</td>\n      <td>0</td>\n      <td>10</td>\n      <td>1</td>\n      <td>4.0</td>\n      <td>115</td>\n      <td>245</td>\n    </tr>\n    <tr>\n      <th>3</th>\n      <td>291365</td>\n      <td>7</td>\n      <td>10</td>\n      <td>0</td>\n      <td>3.0</td>\n      <td>110</td>\n      <td>151</td>\n    </tr>\n    <tr>\n      <th>5</th>\n      <td>59272</td>\n      <td>110</td>\n      <td>16</td>\n      <td>0</td>\n      <td>3.0</td>\n      <td>127</td>\n      <td>694</td>\n    </tr>\n    <tr>\n      <th>6</th>\n      <td>400966</td>\n      <td>3</td>\n      <td>19</td>\n      <td>1</td>\n      <td>3.5</td>\n      <td>121</td>\n      <td>152</td>\n    </tr>\n    <tr>\n      <th>7</th>\n      <td>69287</td>\n      <td>23</td>\n      <td>10</td>\n      <td>0</td>\n      <td>3.5</td>\n      <td>120</td>\n      <td>152</td>\n    </tr>\n  </tbody>\n</table>\n</div>"
     },
     "execution_count": 659,
     "metadata": {},
     "output_type": "execute_result"
    }
   ],
   "source": [
    "features_cols = [\"hotel_id\", \"days_before_checkin\",\n",
    "                \"accommadation_type_name_codes\",\n",
    "                 \"charge_option_codes\",\n",
    "                \"hotel_star_rating\",\n",
    "                \"customer_nationality_codes\",\n",
    "                 \"cancellation_policy_code_codes\"]\n",
    "train_features = train_df[features_cols]\n",
    "test_features = test_df[features_cols]\n",
    "train_features.head()\n"
   ],
   "metadata": {
    "collapsed": false,
    "pycharm": {
     "name": "#%%\n"
    }
   }
  },
  {
   "cell_type": "code",
   "execution_count": 660,
   "outputs": [],
   "source": [
    "# features = full_data[[#\"h_booking_id\",\n",
    "#                       \"hotel_id\",\n",
    "#                       \"accommadation_type_name_codes\",\n",
    "#                       \"hotel_star_rating\",\n",
    "#                       \"customer_nationality_codes\"]]\n",
    "# features.head()\n"
   ],
   "metadata": {
    "collapsed": false,
    "pycharm": {
     "name": "#%%\n"
    }
   }
  },
  {
   "cell_type": "code",
   "execution_count": 661,
   "outputs": [
    {
     "data": {
      "text/plain": "2    False\n3    False\n5     True\n6    False\n7     True\nName: label, dtype: bool"
     },
     "execution_count": 661,
     "metadata": {},
     "output_type": "execute_result"
    }
   ],
   "source": [
    "train_labels = train_df[\"label\"]\n",
    "test_labels = test_df[\"label\"]\n",
    "train_labels.head()"
   ],
   "metadata": {
    "collapsed": false,
    "pycharm": {
     "name": "#%%\n"
    }
   }
  },
  {
   "cell_type": "code",
   "execution_count": 662,
   "outputs": [
    {
     "data": {
      "text/plain": "0             False\n1             False\n2             False\n3             False\n4        2018-07-23\n            ...    \n58654    2018-07-22\n58655         False\n58656         False\n58657         False\n58658         False\nName: cancellation_datetime, Length: 58659, dtype: object"
     },
     "execution_count": 662,
     "metadata": {},
     "output_type": "execute_result"
    }
   ],
   "source": [
    "full_data['cancellation_datetime']"
   ],
   "metadata": {
    "collapsed": false,
    "pycharm": {
     "name": "#%%\n"
    }
   }
  },
  {
   "cell_type": "code",
   "execution_count": 662,
   "outputs": [],
   "source": [],
   "metadata": {
    "collapsed": false,
    "pycharm": {
     "name": "#%%\n"
    }
   }
  },
  {
   "cell_type": "code",
   "execution_count": 663,
   "outputs": [],
   "source": [
    "random_classifier = RandomForestClassifier()\n",
    "random_forest_regressor = RandomForestRegressor()"
   ],
   "metadata": {
    "collapsed": false,
    "pycharm": {
     "name": "#%%\n"
    }
   }
  },
  {
   "cell_type": "code",
   "execution_count": 664,
   "outputs": [
    {
     "data": {
      "text/plain": "array([[7.804310e+05, 0.000000e+00, 1.000000e+01, ..., 4.000000e+00,\n        1.150000e+02, 2.450000e+02],\n       [2.913650e+05, 7.000000e+00, 1.000000e+01, ..., 3.000000e+00,\n        1.100000e+02, 1.510000e+02],\n       [5.927200e+04, 1.100000e+02, 1.600000e+01, ..., 3.000000e+00,\n        1.270000e+02, 6.940000e+02],\n       ...,\n       [3.579174e+06, 1.000000e+00, 0.000000e+00, ..., 4.000000e+00,\n        1.000000e+02, 6.150000e+02],\n       [4.071560e+05, 6.200000e+01, 1.000000e+01, ..., 5.000000e+00,\n        2.500000e+01, 3.400000e+02],\n       [2.227632e+06, 5.000000e+00, 1.000000e+01, ..., 4.000000e+00,\n        2.500000e+01, 3.400000e+02]])"
     },
     "execution_count": 664,
     "metadata": {},
     "output_type": "execute_result"
    }
   ],
   "source": [
    "y_train = train_df.label.values\n",
    "X_train = train_features.values\n",
    "y_test = test_df.label.values\n",
    "X_test = test_features.values\n",
    "X_train"
   ],
   "metadata": {
    "collapsed": false,
    "pycharm": {
     "name": "#%%\n"
    }
   }
  },
  {
   "cell_type": "code",
   "execution_count": 665,
   "outputs": [],
   "source": [
    "model = random_classifier.fit(X_train,y_train)\n",
    "model2 = random_forest_regressor.fit(X_train,y_train)"
   ],
   "metadata": {
    "collapsed": false,
    "pycharm": {
     "name": "#%%\n"
    }
   }
  },
  {
   "cell_type": "code",
   "execution_count": 666,
   "outputs": [],
   "source": [
    "# how many orders the model predicted were cancelled, on a data set he was trained on\n",
    "#np.bincount(model.predict(X_train))\n"
   ],
   "metadata": {
    "collapsed": false,
    "pycharm": {
     "name": "#%%\n"
    }
   }
  },
  {
   "cell_type": "code",
   "execution_count": 667,
   "outputs": [],
   "source": [
    "#np.bincount(y_train)"
   ],
   "metadata": {
    "collapsed": false,
    "pycharm": {
     "name": "#%%\n"
    }
   }
  },
  {
   "cell_type": "code",
   "execution_count": 668,
   "outputs": [],
   "source": [
    "#model.predict(X_test)"
   ],
   "metadata": {
    "collapsed": false,
    "pycharm": {
     "name": "#%%\n"
    }
   }
  },
  {
   "cell_type": "code",
   "execution_count": 669,
   "outputs": [],
   "source": [
    "# how many orders the model predicted were cancelled, on a data set he was not trained on\n",
    "#np.bincount(model.predict(X_test))"
   ],
   "metadata": {
    "collapsed": false,
    "pycharm": {
     "name": "#%%\n"
    }
   }
  },
  {
   "cell_type": "code",
   "execution_count": 670,
   "outputs": [
    {
     "data": {
      "text/plain": "array([10841,  3879], dtype=int64)"
     },
     "execution_count": 670,
     "metadata": {},
     "output_type": "execute_result"
    }
   ],
   "source": [
    "# how many orders got actually cancelled\n",
    "np.bincount(y_test)"
   ],
   "metadata": {
    "collapsed": false,
    "pycharm": {
     "name": "#%%\n"
    }
   }
  },
  {
   "cell_type": "code",
   "execution_count": 671,
   "outputs": [
    {
     "data": {
      "text/plain": "array([12547,  2173], dtype=int64)"
     },
     "execution_count": 671,
     "metadata": {},
     "output_type": "execute_result"
    }
   ],
   "source": [
    "# how many orders that got cancelled, the model guessed were cancelled\n",
    "np.bincount(model.predict(X_test) & y_test)"
   ],
   "metadata": {
    "collapsed": false,
    "pycharm": {
     "name": "#%%\n"
    }
   }
  },
  {
   "cell_type": "code",
   "execution_count": 672,
   "outputs": [],
   "source": [
    "#np.bincount(model.predict(X_train) & y_train)"
   ],
   "metadata": {
    "collapsed": false,
    "pycharm": {
     "name": "#%%\n"
    }
   }
  },
  {
   "cell_type": "code",
   "execution_count": 673,
   "outputs": [],
   "source": [
    "#full_data.label.value_counts()"
   ],
   "metadata": {
    "collapsed": false,
    "pycharm": {
     "name": "#%%\n"
    }
   }
  },
  {
   "cell_type": "code",
   "execution_count": 674,
   "outputs": [],
   "source": [
    "#full_data[(full_data.cancellation_datetime > '2018-08-07') & (full_data.cancellation_datetime < '2018-08-20')]"
   ],
   "metadata": {
    "collapsed": false,
    "pycharm": {
     "name": "#%%\n"
    }
   }
  },
  {
   "cell_type": "code",
   "execution_count": 675,
   "outputs": [
    {
     "data": {
      "text/plain": "           h_booking_id     booking_datetime         checkin_date  \\\n2  -9217919187333201744  2018-11-25 21:44:00  2019-04-22 00:00:00   \n3  -9215699014988905507  2018-11-20 20:20:00  2018-12-16 00:00:00   \n5  -9209328318584438243  2018-11-07 18:33:00  2018-12-21 00:00:00   \n10 -9206569785675213125  2018-11-18 12:54:00  2018-12-28 00:00:00   \n27 -9162547391520652865  2018-11-17 21:38:00  2018-12-31 00:00:00   \n\n          checkout_date  hotel_id hotel_country_code      hotel_live_date  \\\n2   2019-04-23 00:00:00    400322                 JP  2012-10-02 13:54:00   \n3   2018-12-20 00:00:00   3135771                 PH  2017-11-06 17:05:00   \n5   2018-12-22 00:00:00     10602                 SG  2014-05-20 08:05:00   \n10  2018-12-29 00:00:00   2559374                 HK  2017-07-20 15:36:00   \n27  2019-01-02 00:00:00    185040                 JP  2010-05-03 08:59:00   \n\n    hotel_star_rating accommadation_type_name charge_option  ...  \\\n2                 3.0                   Hotel     Pay Later  ...   \n3                 5.0                  Resort       Pay Now  ...   \n5                 5.0                   Hotel       Pay Now  ...   \n10                4.0                   Hotel     Pay Later  ...   \n27                3.0                   Hotel     Pay Later  ...   \n\n    request_latecheckin request_highfloor  request_largebed request_twinbeds  \\\n2                   0.0               0.0               0.0              1.0   \n3                   0.0               1.0               1.0              0.0   \n5                   0.0               0.0               0.0              1.0   \n10                  0.0               1.0               0.0              0.0   \n27                  0.0               0.0               0.0              0.0   \n\n    request_airport  request_earlycheckin  hotel_area_code  hotel_brand_code  \\\n2               0.0                   0.0             2884             193.0   \n3               1.0                   0.0             2532             415.0   \n5               0.0                   0.0             2868             870.0   \n10              0.0                   0.0             1633             613.0   \n27              0.0                   0.0             4463             658.0   \n\n   hotel_chain_code hotel_city_code  \n2             344.0            2264  \n3             291.0            1405  \n5             551.0             437  \n10            355.0             142  \n27             50.0            2567  \n\n[5 rows x 38 columns]",
      "text/html": "<div>\n<style scoped>\n    .dataframe tbody tr th:only-of-type {\n        vertical-align: middle;\n    }\n\n    .dataframe tbody tr th {\n        vertical-align: top;\n    }\n\n    .dataframe thead th {\n        text-align: right;\n    }\n</style>\n<table border=\"1\" class=\"dataframe\">\n  <thead>\n    <tr style=\"text-align: right;\">\n      <th></th>\n      <th>h_booking_id</th>\n      <th>booking_datetime</th>\n      <th>checkin_date</th>\n      <th>checkout_date</th>\n      <th>hotel_id</th>\n      <th>hotel_country_code</th>\n      <th>hotel_live_date</th>\n      <th>hotel_star_rating</th>\n      <th>accommadation_type_name</th>\n      <th>charge_option</th>\n      <th>...</th>\n      <th>request_latecheckin</th>\n      <th>request_highfloor</th>\n      <th>request_largebed</th>\n      <th>request_twinbeds</th>\n      <th>request_airport</th>\n      <th>request_earlycheckin</th>\n      <th>hotel_area_code</th>\n      <th>hotel_brand_code</th>\n      <th>hotel_chain_code</th>\n      <th>hotel_city_code</th>\n    </tr>\n  </thead>\n  <tbody>\n    <tr>\n      <th>2</th>\n      <td>-9217919187333201744</td>\n      <td>2018-11-25 21:44:00</td>\n      <td>2019-04-22 00:00:00</td>\n      <td>2019-04-23 00:00:00</td>\n      <td>400322</td>\n      <td>JP</td>\n      <td>2012-10-02 13:54:00</td>\n      <td>3.0</td>\n      <td>Hotel</td>\n      <td>Pay Later</td>\n      <td>...</td>\n      <td>0.0</td>\n      <td>0.0</td>\n      <td>0.0</td>\n      <td>1.0</td>\n      <td>0.0</td>\n      <td>0.0</td>\n      <td>2884</td>\n      <td>193.0</td>\n      <td>344.0</td>\n      <td>2264</td>\n    </tr>\n    <tr>\n      <th>3</th>\n      <td>-9215699014988905507</td>\n      <td>2018-11-20 20:20:00</td>\n      <td>2018-12-16 00:00:00</td>\n      <td>2018-12-20 00:00:00</td>\n      <td>3135771</td>\n      <td>PH</td>\n      <td>2017-11-06 17:05:00</td>\n      <td>5.0</td>\n      <td>Resort</td>\n      <td>Pay Now</td>\n      <td>...</td>\n      <td>0.0</td>\n      <td>1.0</td>\n      <td>1.0</td>\n      <td>0.0</td>\n      <td>1.0</td>\n      <td>0.0</td>\n      <td>2532</td>\n      <td>415.0</td>\n      <td>291.0</td>\n      <td>1405</td>\n    </tr>\n    <tr>\n      <th>5</th>\n      <td>-9209328318584438243</td>\n      <td>2018-11-07 18:33:00</td>\n      <td>2018-12-21 00:00:00</td>\n      <td>2018-12-22 00:00:00</td>\n      <td>10602</td>\n      <td>SG</td>\n      <td>2014-05-20 08:05:00</td>\n      <td>5.0</td>\n      <td>Hotel</td>\n      <td>Pay Now</td>\n      <td>...</td>\n      <td>0.0</td>\n      <td>0.0</td>\n      <td>0.0</td>\n      <td>1.0</td>\n      <td>0.0</td>\n      <td>0.0</td>\n      <td>2868</td>\n      <td>870.0</td>\n      <td>551.0</td>\n      <td>437</td>\n    </tr>\n    <tr>\n      <th>10</th>\n      <td>-9206569785675213125</td>\n      <td>2018-11-18 12:54:00</td>\n      <td>2018-12-28 00:00:00</td>\n      <td>2018-12-29 00:00:00</td>\n      <td>2559374</td>\n      <td>HK</td>\n      <td>2017-07-20 15:36:00</td>\n      <td>4.0</td>\n      <td>Hotel</td>\n      <td>Pay Later</td>\n      <td>...</td>\n      <td>0.0</td>\n      <td>1.0</td>\n      <td>0.0</td>\n      <td>0.0</td>\n      <td>0.0</td>\n      <td>0.0</td>\n      <td>1633</td>\n      <td>613.0</td>\n      <td>355.0</td>\n      <td>142</td>\n    </tr>\n    <tr>\n      <th>27</th>\n      <td>-9162547391520652865</td>\n      <td>2018-11-17 21:38:00</td>\n      <td>2018-12-31 00:00:00</td>\n      <td>2019-01-02 00:00:00</td>\n      <td>185040</td>\n      <td>JP</td>\n      <td>2010-05-03 08:59:00</td>\n      <td>3.0</td>\n      <td>Hotel</td>\n      <td>Pay Later</td>\n      <td>...</td>\n      <td>0.0</td>\n      <td>0.0</td>\n      <td>0.0</td>\n      <td>0.0</td>\n      <td>0.0</td>\n      <td>0.0</td>\n      <td>4463</td>\n      <td>658.0</td>\n      <td>50.0</td>\n      <td>2567</td>\n    </tr>\n  </tbody>\n</table>\n<p>5 rows × 38 columns</p>\n</div>"
     },
     "execution_count": 675,
     "metadata": {},
     "output_type": "execute_result"
    }
   ],
   "source": [
    "test_data_w1 = pd.read_csv(r\"C:\\Users\\97250\\PycharmProjects\\IML.HUJI\\datasets\\test_set_week_1.csv\").dropna().drop_duplicates()\n",
    "test_data_w1.head()"
   ],
   "metadata": {
    "collapsed": false,
    "pycharm": {
     "name": "#%%\n"
    }
   }
  },
  {
   "cell_type": "code",
   "execution_count": 676,
   "outputs": [],
   "source": [
    "# convert accomodation type name to codes"
   ],
   "metadata": {
    "collapsed": false,
    "pycharm": {
     "name": "#%%\n"
    }
   }
  }
 ],
 "metadata": {
  "kernelspec": {
   "display_name": "Python 3",
   "language": "python",
   "name": "python3"
  },
  "language_info": {
   "codemirror_mode": {
    "name": "ipython",
    "version": 2
   },
   "file_extension": ".py",
   "mimetype": "text/x-python",
   "name": "python",
   "nbconvert_exporter": "python",
   "pygments_lexer": "ipython2",
   "version": "2.7.6"
  }
 },
 "nbformat": 4,
 "nbformat_minor": 0
}