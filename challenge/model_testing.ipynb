{
 "cells": [
  {
   "cell_type": "code",
   "execution_count": 284,
   "metadata": {
    "collapsed": true
   },
   "outputs": [],
   "source": [
    "\n",
    "from sklearn.ensemble import RandomForestClassifier\n",
    "from agoda_cancellation_estimator import AgodaCancellationEstimator\n",
    "from agoda_cancellation_prediction import load_data\n",
    "import pandas as pd\n",
    "import numpy as np"
   ]
  },
  {
   "cell_type": "code",
   "execution_count": 285,
   "outputs": [
    {
     "data": {
      "text/plain": "            h_booking_id     booking_datetime         checkin_date  \\\n16  -9216487696802692260  2018-08-28 22:40:00  2018-09-29 00:00:00   \n19  -9215494322833174318  2018-05-27 17:15:00  2018-08-20 00:00:00   \n22  -9215072291520077707  2018-05-31 22:43:00  2018-09-21 00:00:00   \n98  -9191194571019688471  2018-06-18 09:47:00  2018-09-07 00:00:00   \n137 -9179243281126879585  2018-03-13 16:09:00  2018-08-24 00:00:00   \n\n           checkout_date  hotel_id hotel_country_code      hotel_live_date  \\\n16   2018-09-30 00:00:00   2559209                 JP  2017-07-21 18:32:00   \n19   2018-08-21 00:00:00     11934                 NZ  2009-06-28 02:02:00   \n22   2018-09-22 00:00:00    108170                 TH  2009-06-28 02:02:00   \n98   2018-09-09 00:00:00   2411232                 US  2017-08-30 00:49:00   \n137  2018-08-28 00:00:00   1899389                 JP  2017-01-27 09:03:00   \n\n     hotel_star_rating accommadation_type_name charge_option  ...  \\\n16                 3.0                   Hotel       Pay Now  ...   \n19                 4.0                   Hotel     Pay Later  ...   \n22                 3.0                   Hotel     Pay Later  ...   \n98                 4.0                   Hotel     Pay Later  ...   \n137                4.0                   Hotel     Pay Later  ...   \n\n     request_highfloor request_largebed  request_twinbeds request_airport  \\\n16                 0.0              0.0               1.0             0.0   \n19                 0.0              0.0               1.0             0.0   \n22                 1.0              1.0               0.0             0.0   \n98                 0.0              0.0               0.0             0.0   \n137                1.0              0.0               1.0             0.0   \n\n     request_earlycheckin  cancellation_datetime  hotel_area_code  \\\n16                    0.0             2018-08-28             5092   \n19                    0.0             2018-07-13             3450   \n22                    0.0             2018-06-19              662   \n98                    0.0             2018-09-05             5540   \n137                   0.0             2018-03-23              643   \n\n     hotel_brand_code hotel_chain_code hotel_city_code  \n16              366.0            618.0            1403  \n19              159.0            232.0            2158  \n22              442.0            600.0             447  \n98              753.0            548.0             202  \n137              95.0            254.0            2249  \n\n[5 rows x 39 columns]",
      "text/html": "<div>\n<style scoped>\n    .dataframe tbody tr th:only-of-type {\n        vertical-align: middle;\n    }\n\n    .dataframe tbody tr th {\n        vertical-align: top;\n    }\n\n    .dataframe thead th {\n        text-align: right;\n    }\n</style>\n<table border=\"1\" class=\"dataframe\">\n  <thead>\n    <tr style=\"text-align: right;\">\n      <th></th>\n      <th>h_booking_id</th>\n      <th>booking_datetime</th>\n      <th>checkin_date</th>\n      <th>checkout_date</th>\n      <th>hotel_id</th>\n      <th>hotel_country_code</th>\n      <th>hotel_live_date</th>\n      <th>hotel_star_rating</th>\n      <th>accommadation_type_name</th>\n      <th>charge_option</th>\n      <th>...</th>\n      <th>request_highfloor</th>\n      <th>request_largebed</th>\n      <th>request_twinbeds</th>\n      <th>request_airport</th>\n      <th>request_earlycheckin</th>\n      <th>cancellation_datetime</th>\n      <th>hotel_area_code</th>\n      <th>hotel_brand_code</th>\n      <th>hotel_chain_code</th>\n      <th>hotel_city_code</th>\n    </tr>\n  </thead>\n  <tbody>\n    <tr>\n      <th>16</th>\n      <td>-9216487696802692260</td>\n      <td>2018-08-28 22:40:00</td>\n      <td>2018-09-29 00:00:00</td>\n      <td>2018-09-30 00:00:00</td>\n      <td>2559209</td>\n      <td>JP</td>\n      <td>2017-07-21 18:32:00</td>\n      <td>3.0</td>\n      <td>Hotel</td>\n      <td>Pay Now</td>\n      <td>...</td>\n      <td>0.0</td>\n      <td>0.0</td>\n      <td>1.0</td>\n      <td>0.0</td>\n      <td>0.0</td>\n      <td>2018-08-28</td>\n      <td>5092</td>\n      <td>366.0</td>\n      <td>618.0</td>\n      <td>1403</td>\n    </tr>\n    <tr>\n      <th>19</th>\n      <td>-9215494322833174318</td>\n      <td>2018-05-27 17:15:00</td>\n      <td>2018-08-20 00:00:00</td>\n      <td>2018-08-21 00:00:00</td>\n      <td>11934</td>\n      <td>NZ</td>\n      <td>2009-06-28 02:02:00</td>\n      <td>4.0</td>\n      <td>Hotel</td>\n      <td>Pay Later</td>\n      <td>...</td>\n      <td>0.0</td>\n      <td>0.0</td>\n      <td>1.0</td>\n      <td>0.0</td>\n      <td>0.0</td>\n      <td>2018-07-13</td>\n      <td>3450</td>\n      <td>159.0</td>\n      <td>232.0</td>\n      <td>2158</td>\n    </tr>\n    <tr>\n      <th>22</th>\n      <td>-9215072291520077707</td>\n      <td>2018-05-31 22:43:00</td>\n      <td>2018-09-21 00:00:00</td>\n      <td>2018-09-22 00:00:00</td>\n      <td>108170</td>\n      <td>TH</td>\n      <td>2009-06-28 02:02:00</td>\n      <td>3.0</td>\n      <td>Hotel</td>\n      <td>Pay Later</td>\n      <td>...</td>\n      <td>1.0</td>\n      <td>1.0</td>\n      <td>0.0</td>\n      <td>0.0</td>\n      <td>0.0</td>\n      <td>2018-06-19</td>\n      <td>662</td>\n      <td>442.0</td>\n      <td>600.0</td>\n      <td>447</td>\n    </tr>\n    <tr>\n      <th>98</th>\n      <td>-9191194571019688471</td>\n      <td>2018-06-18 09:47:00</td>\n      <td>2018-09-07 00:00:00</td>\n      <td>2018-09-09 00:00:00</td>\n      <td>2411232</td>\n      <td>US</td>\n      <td>2017-08-30 00:49:00</td>\n      <td>4.0</td>\n      <td>Hotel</td>\n      <td>Pay Later</td>\n      <td>...</td>\n      <td>0.0</td>\n      <td>0.0</td>\n      <td>0.0</td>\n      <td>0.0</td>\n      <td>0.0</td>\n      <td>2018-09-05</td>\n      <td>5540</td>\n      <td>753.0</td>\n      <td>548.0</td>\n      <td>202</td>\n    </tr>\n    <tr>\n      <th>137</th>\n      <td>-9179243281126879585</td>\n      <td>2018-03-13 16:09:00</td>\n      <td>2018-08-24 00:00:00</td>\n      <td>2018-08-28 00:00:00</td>\n      <td>1899389</td>\n      <td>JP</td>\n      <td>2017-01-27 09:03:00</td>\n      <td>4.0</td>\n      <td>Hotel</td>\n      <td>Pay Later</td>\n      <td>...</td>\n      <td>1.0</td>\n      <td>0.0</td>\n      <td>1.0</td>\n      <td>0.0</td>\n      <td>0.0</td>\n      <td>2018-03-23</td>\n      <td>643</td>\n      <td>95.0</td>\n      <td>254.0</td>\n      <td>2249</td>\n    </tr>\n  </tbody>\n</table>\n<p>5 rows × 39 columns</p>\n</div>"
     },
     "execution_count": 285,
     "metadata": {},
     "output_type": "execute_result"
    }
   ],
   "source": [
    "full_data = pd.read_csv(r\"C:\\Users\\97250\\PycharmProjects\\IML.HUJI\\datasets\\agoda_cancellation_train.csv\").dropna().drop_duplicates()\n",
    "test_data_w1 = pd.read_csv(r\"C:\\Users\\97250\\PycharmProjects\\IML.HUJI\\datasets\\test_set_week_1.csv\").dropna().drop_duplicates()\n",
    "full_data.head()"
   ],
   "metadata": {
    "collapsed": false,
    "pycharm": {
     "name": "#%%\n"
    }
   }
  },
  {
   "cell_type": "code",
   "execution_count": 286,
   "outputs": [
    {
     "data": {
      "text/plain": "16       145\n19        66\n22        44\n98        68\n137       56\n        ... \n58548     41\n58556     47\n58572     40\n58602     66\n58626     45\nName: cancellation_policy_code_codes, Length: 2365, dtype: int16"
     },
     "execution_count": 286,
     "metadata": {},
     "output_type": "execute_result"
    }
   ],
   "source": [
    "\n",
    "full_data.accommadation_type_name = full_data.accommadation_type_name.astype('category')\n",
    "full_data.customer_nationality = full_data.customer_nationality.astype(str).astype('category')\n",
    "full_data.hotel_id = full_data.hotel_id.astype('category')\n",
    "full_data.charge_option = full_data.charge_option.astype('category')\n",
    "full_data.cancellation_policy_code = full_data.cancellation_policy_code.astype('category')\n",
    "full_data['customer_nationality_codes'] = full_data.customer_nationality.cat.codes\n",
    "full_data['accommadation_type_name_codes'] = full_data.accommadation_type_name.cat.codes\n",
    "full_data['hotel_id_codes'] = full_data.hotel_id.cat.codes\n",
    "full_data['charge_option_codes'] = full_data.charge_option.cat.codes\n",
    "full_data['cancellation_policy_code_codes'] = full_data.cancellation_policy_code.cat.codes\n",
    "full_data['cancellation_policy_code_codes']"
   ],
   "metadata": {
    "collapsed": false,
    "pycharm": {
     "name": "#%%\n"
    }
   }
  },
  {
   "cell_type": "code",
   "execution_count": 287,
   "outputs": [
    {
     "data": {
      "text/plain": "      cancellation_datetime  label\n16               2018-08-28  False\n19               2018-07-13  False\n22               2018-06-19  False\n98               2018-09-05  False\n137              2018-03-23  False\n...                     ...    ...\n58548            2018-03-09  False\n58556            2018-07-22  False\n58572            2018-07-18  False\n58602            2018-05-20  False\n58626            2018-08-23  False\n\n[2365 rows x 2 columns]",
      "text/html": "<div>\n<style scoped>\n    .dataframe tbody tr th:only-of-type {\n        vertical-align: middle;\n    }\n\n    .dataframe tbody tr th {\n        vertical-align: top;\n    }\n\n    .dataframe thead th {\n        text-align: right;\n    }\n</style>\n<table border=\"1\" class=\"dataframe\">\n  <thead>\n    <tr style=\"text-align: right;\">\n      <th></th>\n      <th>cancellation_datetime</th>\n      <th>label</th>\n    </tr>\n  </thead>\n  <tbody>\n    <tr>\n      <th>16</th>\n      <td>2018-08-28</td>\n      <td>False</td>\n    </tr>\n    <tr>\n      <th>19</th>\n      <td>2018-07-13</td>\n      <td>False</td>\n    </tr>\n    <tr>\n      <th>22</th>\n      <td>2018-06-19</td>\n      <td>False</td>\n    </tr>\n    <tr>\n      <th>98</th>\n      <td>2018-09-05</td>\n      <td>False</td>\n    </tr>\n    <tr>\n      <th>137</th>\n      <td>2018-03-23</td>\n      <td>False</td>\n    </tr>\n    <tr>\n      <th>...</th>\n      <td>...</td>\n      <td>...</td>\n    </tr>\n    <tr>\n      <th>58548</th>\n      <td>2018-03-09</td>\n      <td>False</td>\n    </tr>\n    <tr>\n      <th>58556</th>\n      <td>2018-07-22</td>\n      <td>False</td>\n    </tr>\n    <tr>\n      <th>58572</th>\n      <td>2018-07-18</td>\n      <td>False</td>\n    </tr>\n    <tr>\n      <th>58602</th>\n      <td>2018-05-20</td>\n      <td>False</td>\n    </tr>\n    <tr>\n      <th>58626</th>\n      <td>2018-08-23</td>\n      <td>False</td>\n    </tr>\n  </tbody>\n</table>\n<p>2365 rows × 2 columns</p>\n</div>"
     },
     "execution_count": 287,
     "metadata": {},
     "output_type": "execute_result"
    }
   ],
   "source": [
    "full_data['label'] = full_data.cancellation_datetime.map(lambda x: x > '2018-08-13' and x < '2018-08-20')\n",
    "full_data.loc[:, ['cancellation_datetime', 'label']]"
   ],
   "metadata": {
    "collapsed": false,
    "pycharm": {
     "name": "#%%\n"
    }
   }
  },
  {
   "cell_type": "code",
   "execution_count": 288,
   "outputs": [
    {
     "data": {
      "text/plain": "(1755, 610, 2365)"
     },
     "execution_count": 288,
     "metadata": {},
     "output_type": "execute_result"
    }
   ],
   "source": [
    "# split the data into training set and test set\n",
    "train_ratio = 0.75\n",
    "rand_nums = np.random.random_sample(len(full_data))\n",
    "full_data['train'] =  rand_nums <= train_ratio\n",
    "full_data.train.value_counts()\n",
    "train_df = full_data[full_data.train]\n",
    "test_df = full_data[~full_data.train]\n",
    "len(train_df), len(test_df), len(full_data)"
   ],
   "metadata": {
    "collapsed": false,
    "pycharm": {
     "name": "#%%\n"
    }
   }
  },
  {
   "cell_type": "code",
   "execution_count": 289,
   "outputs": [
    {
     "data": {
      "text/plain": "    hotel_id  accommadation_type_name_codes  charge_option_codes  no_of_room  \\\n16   2559209                              5                    1           1   \n19     11934                              5                    0           1   \n22    108170                              5                    0           1   \n98   2411232                              5                    0           1   \n137  1899389                              5                    0           1   \n\n     hotel_star_rating  customer_nationality_codes  \\\n16                 3.0                          54   \n19                 4.0                          36   \n22                 3.0                          55   \n98                 4.0                          61   \n137                4.0                          20   \n\n     cancellation_policy_code_codes  \n16                              145  \n19                               66  \n22                               44  \n98                               68  \n137                              56  ",
      "text/html": "<div>\n<style scoped>\n    .dataframe tbody tr th:only-of-type {\n        vertical-align: middle;\n    }\n\n    .dataframe tbody tr th {\n        vertical-align: top;\n    }\n\n    .dataframe thead th {\n        text-align: right;\n    }\n</style>\n<table border=\"1\" class=\"dataframe\">\n  <thead>\n    <tr style=\"text-align: right;\">\n      <th></th>\n      <th>hotel_id</th>\n      <th>accommadation_type_name_codes</th>\n      <th>charge_option_codes</th>\n      <th>no_of_room</th>\n      <th>hotel_star_rating</th>\n      <th>customer_nationality_codes</th>\n      <th>cancellation_policy_code_codes</th>\n    </tr>\n  </thead>\n  <tbody>\n    <tr>\n      <th>16</th>\n      <td>2559209</td>\n      <td>5</td>\n      <td>1</td>\n      <td>1</td>\n      <td>3.0</td>\n      <td>54</td>\n      <td>145</td>\n    </tr>\n    <tr>\n      <th>19</th>\n      <td>11934</td>\n      <td>5</td>\n      <td>0</td>\n      <td>1</td>\n      <td>4.0</td>\n      <td>36</td>\n      <td>66</td>\n    </tr>\n    <tr>\n      <th>22</th>\n      <td>108170</td>\n      <td>5</td>\n      <td>0</td>\n      <td>1</td>\n      <td>3.0</td>\n      <td>55</td>\n      <td>44</td>\n    </tr>\n    <tr>\n      <th>98</th>\n      <td>2411232</td>\n      <td>5</td>\n      <td>0</td>\n      <td>1</td>\n      <td>4.0</td>\n      <td>61</td>\n      <td>68</td>\n    </tr>\n    <tr>\n      <th>137</th>\n      <td>1899389</td>\n      <td>5</td>\n      <td>0</td>\n      <td>1</td>\n      <td>4.0</td>\n      <td>20</td>\n      <td>56</td>\n    </tr>\n  </tbody>\n</table>\n</div>"
     },
     "execution_count": 289,
     "metadata": {},
     "output_type": "execute_result"
    }
   ],
   "source": [
    "features_cols = [\"hotel_id\",\n",
    "                \"accommadation_type_name_codes\", \"charge_option_codes\", \"no_of_room\",\n",
    "                \"hotel_star_rating\",\n",
    "                \"customer_nationality_codes\",\n",
    "                 'cancellation_policy_code_codes']\n",
    "train_features = train_df[features_cols]\n",
    "test_features = test_df[features_cols]\n",
    "train_features.head()\n"
   ],
   "metadata": {
    "collapsed": false,
    "pycharm": {
     "name": "#%%\n"
    }
   }
  },
  {
   "cell_type": "code",
   "execution_count": 290,
   "outputs": [],
   "source": [
    "# features = full_data[[#\"h_booking_id\",\n",
    "#                       \"hotel_id\",\n",
    "#                       \"accommadation_type_name_codes\",\n",
    "#                       \"hotel_star_rating\",\n",
    "#                       \"customer_nationality_codes\"]]\n",
    "# features.head()\n"
   ],
   "metadata": {
    "collapsed": false,
    "pycharm": {
     "name": "#%%\n"
    }
   }
  },
  {
   "cell_type": "code",
   "execution_count": 291,
   "outputs": [
    {
     "data": {
      "text/plain": "16     2018-08-28\n19     2018-07-13\n22     2018-06-19\n98     2018-09-05\n137    2018-03-23\nName: cancellation_datetime, dtype: object"
     },
     "execution_count": 291,
     "metadata": {},
     "output_type": "execute_result"
    }
   ],
   "source": [
    "train_labels = train_df[\"cancellation_datetime\"]\n",
    "test_labels = test_df[\"cancellation_datetime\"]\n",
    "train_labels.head()"
   ],
   "metadata": {
    "collapsed": false,
    "pycharm": {
     "name": "#%%\n"
    }
   }
  },
  {
   "cell_type": "code",
   "execution_count": 292,
   "outputs": [
    {
     "data": {
      "text/plain": "16       2018-08-28\n19       2018-07-13\n22       2018-06-19\n98       2018-09-05\n137      2018-03-23\n            ...    \n58548    2018-03-09\n58556    2018-07-22\n58572    2018-07-18\n58602    2018-05-20\n58626    2018-08-23\nName: cancellation_datetime, Length: 2365, dtype: object"
     },
     "execution_count": 292,
     "metadata": {},
     "output_type": "execute_result"
    }
   ],
   "source": [
    "full_data['cancellation_datetime']"
   ],
   "metadata": {
    "collapsed": false,
    "pycharm": {
     "name": "#%%\n"
    }
   }
  },
  {
   "cell_type": "code",
   "execution_count": 293,
   "outputs": [],
   "source": [
    "random_classifier = RandomForestClassifier()"
   ],
   "metadata": {
    "collapsed": false,
    "pycharm": {
     "name": "#%%\n"
    }
   }
  },
  {
   "cell_type": "code",
   "execution_count": 294,
   "outputs": [
    {
     "data": {
      "text/plain": "array([[2.559209e+06, 5.000000e+00, 1.000000e+00, ..., 3.000000e+00,\n        5.400000e+01, 1.450000e+02],\n       [1.193400e+04, 5.000000e+00, 0.000000e+00, ..., 4.000000e+00,\n        3.600000e+01, 6.600000e+01],\n       [1.081700e+05, 5.000000e+00, 0.000000e+00, ..., 3.000000e+00,\n        5.500000e+01, 4.400000e+01],\n       ...,\n       [3.091081e+06, 5.000000e+00, 1.000000e+00, ..., 5.000000e+00,\n        2.100000e+01, 4.000000e+01],\n       [4.000867e+06, 5.000000e+00, 1.000000e+00, ..., 3.000000e+00,\n        1.000000e+00, 6.600000e+01],\n       [4.515765e+06, 5.000000e+00, 0.000000e+00, ..., 2.500000e+00,\n        2.600000e+01, 4.500000e+01]])"
     },
     "execution_count": 294,
     "metadata": {},
     "output_type": "execute_result"
    }
   ],
   "source": [
    "y_train = train_df.label.values\n",
    "X_train = train_features.values\n",
    "y_test = test_df.label.values\n",
    "X_test = test_features.values\n",
    "X_train"
   ],
   "metadata": {
    "collapsed": false,
    "pycharm": {
     "name": "#%%\n"
    }
   }
  },
  {
   "cell_type": "code",
   "execution_count": 295,
   "outputs": [],
   "source": [
    "model = random_classifier.fit(X_train,y_train)"
   ],
   "metadata": {
    "collapsed": false,
    "pycharm": {
     "name": "#%%\n"
    }
   }
  },
  {
   "cell_type": "code",
   "execution_count": 296,
   "outputs": [
    {
     "data": {
      "text/plain": "array([1672,   83], dtype=int64)"
     },
     "execution_count": 296,
     "metadata": {},
     "output_type": "execute_result"
    }
   ],
   "source": [
    "# how many orders the model predicted were cancelled, on a data set he was trained on\n",
    "np.bincount(model.predict(X_train))"
   ],
   "metadata": {
    "collapsed": false,
    "pycharm": {
     "name": "#%%\n"
    }
   }
  },
  {
   "cell_type": "code",
   "execution_count": 297,
   "outputs": [
    {
     "data": {
      "text/plain": "array([1665,   90], dtype=int64)"
     },
     "execution_count": 297,
     "metadata": {},
     "output_type": "execute_result"
    }
   ],
   "source": [
    "np.bincount(y_train)"
   ],
   "metadata": {
    "collapsed": false,
    "pycharm": {
     "name": "#%%\n"
    }
   }
  },
  {
   "cell_type": "code",
   "execution_count": 298,
   "outputs": [
    {
     "data": {
      "text/plain": "array([False, False, False, False, False, False, False, False, False,\n       False, False, False, False, False, False, False, False, False,\n       False, False, False, False, False, False, False, False, False,\n       False, False, False, False, False, False, False, False, False,\n       False, False, False, False, False, False, False, False, False,\n       False, False, False, False, False, False, False, False, False,\n       False, False, False, False, False, False, False, False, False,\n       False, False, False, False, False, False, False, False, False,\n       False, False, False, False, False, False, False, False, False,\n       False, False, False, False, False, False, False, False, False,\n       False, False, False, False, False, False, False, False, False,\n       False, False, False, False, False, False, False, False, False,\n       False, False, False, False, False, False, False,  True,  True,\n       False, False, False, False, False, False, False, False, False,\n       False,  True, False, False, False, False,  True, False, False,\n       False, False, False, False, False, False, False, False, False,\n       False, False, False, False, False, False, False, False, False,\n       False, False, False, False, False, False, False, False, False,\n       False, False, False, False, False, False, False,  True, False,\n       False, False, False, False, False, False, False, False, False,\n       False, False, False, False, False,  True, False, False, False,\n       False, False, False, False, False,  True, False, False, False,\n       False, False, False, False, False, False, False, False, False,\n       False, False, False, False, False, False, False, False, False,\n       False, False, False, False, False, False, False, False, False,\n       False, False, False, False, False, False, False, False, False,\n       False, False, False, False, False, False, False, False, False,\n       False, False, False, False, False, False, False, False, False,\n       False, False, False, False, False, False, False, False, False,\n       False, False, False, False, False, False, False, False, False,\n       False, False, False, False, False, False, False, False, False,\n       False, False, False, False, False, False, False, False, False,\n       False, False, False, False, False, False, False, False, False,\n       False, False, False, False, False, False, False, False, False,\n       False, False, False, False, False, False, False, False, False,\n       False, False, False, False, False, False, False, False, False,\n       False, False, False, False, False, False, False, False, False,\n       False, False, False, False, False, False, False, False, False,\n       False, False, False, False, False, False, False, False, False,\n       False, False, False, False, False, False, False, False, False,\n       False, False, False, False, False, False, False, False, False,\n       False, False, False, False, False, False, False, False, False,\n       False, False, False, False, False, False, False, False, False,\n       False, False, False, False, False, False, False, False, False,\n       False, False, False, False, False, False, False, False, False,\n       False,  True, False, False, False, False, False, False, False,\n       False, False, False, False, False, False, False, False, False,\n       False, False, False, False, False, False, False, False, False,\n       False, False, False, False, False, False, False, False, False,\n       False, False, False,  True, False, False, False, False, False,\n       False, False, False, False, False, False, False, False, False,\n       False, False, False, False, False, False, False, False, False,\n       False, False, False, False, False, False, False,  True, False,\n       False, False, False, False, False, False, False, False, False,\n       False, False, False, False, False, False, False, False, False,\n       False, False, False, False, False, False, False, False, False,\n       False, False, False, False, False, False, False, False, False,\n       False, False, False, False, False, False, False, False, False,\n       False, False, False, False, False, False, False, False, False,\n       False,  True, False, False, False, False, False, False, False,\n       False, False, False, False, False, False, False, False, False,\n       False,  True,  True, False, False, False, False, False,  True,\n       False, False, False, False, False, False, False, False, False,\n       False, False, False, False, False, False, False, False, False,\n       False, False, False, False, False, False, False, False, False,\n       False, False, False, False, False, False, False, False, False,\n       False, False, False, False, False, False, False, False,  True,\n       False, False, False, False, False, False, False])"
     },
     "execution_count": 298,
     "metadata": {},
     "output_type": "execute_result"
    }
   ],
   "source": [
    "model.predict(X_test)"
   ],
   "metadata": {
    "collapsed": false,
    "pycharm": {
     "name": "#%%\n"
    }
   }
  },
  {
   "cell_type": "code",
   "execution_count": 299,
   "outputs": [
    {
     "data": {
      "text/plain": "array([595,  15], dtype=int64)"
     },
     "execution_count": 299,
     "metadata": {},
     "output_type": "execute_result"
    }
   ],
   "source": [
    "# how many orders the model predicted were cancelled, on a data set he was not trained on\n",
    "np.bincount(model.predict(X_test))"
   ],
   "metadata": {
    "collapsed": false,
    "pycharm": {
     "name": "#%%\n"
    }
   }
  },
  {
   "cell_type": "code",
   "execution_count": 300,
   "outputs": [
    {
     "data": {
      "text/plain": "array([577,  33], dtype=int64)"
     },
     "execution_count": 300,
     "metadata": {},
     "output_type": "execute_result"
    }
   ],
   "source": [
    "# how many orders got actually cancelled\n",
    "np.bincount(y_test)"
   ],
   "metadata": {
    "collapsed": false,
    "pycharm": {
     "name": "#%%\n"
    }
   }
  },
  {
   "cell_type": "code",
   "execution_count": 301,
   "outputs": [
    {
     "data": {
      "text/plain": "array([604,   6], dtype=int64)"
     },
     "execution_count": 301,
     "metadata": {},
     "output_type": "execute_result"
    }
   ],
   "source": [
    "np.bincount(model.predict(X_test) & y_test)"
   ],
   "metadata": {
    "collapsed": false,
    "pycharm": {
     "name": "#%%\n"
    }
   }
  },
  {
   "cell_type": "code",
   "execution_count": 302,
   "outputs": [
    {
     "data": {
      "text/plain": "array([1673,   82], dtype=int64)"
     },
     "execution_count": 302,
     "metadata": {},
     "output_type": "execute_result"
    }
   ],
   "source": [
    "np.bincount(model.predict(X_train) & y_train)"
   ],
   "metadata": {
    "collapsed": false,
    "pycharm": {
     "name": "#%%\n"
    }
   }
  },
  {
   "cell_type": "code",
   "execution_count": 303,
   "outputs": [
    {
     "data": {
      "text/plain": "False    2242\nTrue      123\nName: label, dtype: int64"
     },
     "execution_count": 303,
     "metadata": {},
     "output_type": "execute_result"
    }
   ],
   "source": [
    "full_data.label.value_counts()"
   ],
   "metadata": {
    "collapsed": false,
    "pycharm": {
     "name": "#%%\n"
    }
   }
  },
  {
   "cell_type": "code",
   "execution_count": 304,
   "outputs": [
    {
     "data": {
      "text/plain": "              h_booking_id     booking_datetime         checkin_date  \\\n138   -9178271518124899741  2018-06-13 01:39:00  2018-09-20 00:00:00   \n200   -9158997573325902499  2018-08-19 06:24:00  2018-09-15 00:00:00   \n225   -9150457930144649121  2018-07-24 01:47:00  2018-08-18 00:00:00   \n235   -9148315339177572723  2018-08-13 22:49:00  2018-08-18 00:00:00   \n412   -9093276767136234643  2018-06-27 23:39:00  2018-09-19 00:00:00   \n...                    ...                  ...                  ...   \n56263  8466705461484802320  2018-07-27 16:15:00  2018-08-24 00:00:00   \n56332  8488847189900316785  2018-07-10 12:45:00  2018-08-25 00:00:00   \n56435  8520771494965438804  2018-08-18 21:31:00  2018-08-20 00:00:00   \n56514  8546579788317624088  2018-08-02 11:58:00  2018-09-13 00:00:00   \n58328  9123584806569935439  2018-08-19 20:13:00  2018-09-20 00:00:00   \n\n             checkout_date hotel_id hotel_country_code      hotel_live_date  \\\n138    2018-09-24 00:00:00     2863                 GB  2011-08-31 16:49:00   \n200    2018-09-17 00:00:00  3129374                 AU  2017-11-06 16:37:00   \n225    2018-08-19 00:00:00  1602888                 IN  2017-03-17 11:34:00   \n235    2018-08-19 00:00:00  4910396                 MY  2018-04-13 19:52:00   \n412    2018-09-20 00:00:00   168985                 JP  2009-12-19 08:20:00   \n...                    ...      ...                ...                  ...   \n56263  2018-08-26 00:00:00  1105052                 JP  2015-11-25 11:59:00   \n56332  2018-08-26 00:00:00     9358                 JP  2009-06-28 02:02:00   \n56435  2018-08-21 00:00:00   240484                 JP  2010-11-18 07:08:00   \n56514  2018-09-18 00:00:00  3320368                 TH  2017-11-10 09:25:00   \n58328  2018-09-27 00:00:00  1095363                 JP  2015-10-20 05:25:00   \n\n       hotel_star_rating accommadation_type_name charge_option  ...  \\\n138                  3.0                  Hostel       Pay Now  ...   \n200                  4.5                   Hotel       Pay Now  ...   \n225                  5.0                   Hotel     Pay Later  ...   \n235                  2.0                   Hotel     Pay Later  ...   \n412                  3.5                   Hotel     Pay Later  ...   \n...                  ...                     ...           ...  ...   \n56263                3.0                   Hotel     Pay Later  ...   \n56332                4.0                   Hotel     Pay Later  ...   \n56435                3.5                   Hotel       Pay Now  ...   \n56514                4.0                   Hotel     Pay Later  ...   \n58328                3.0                   Hotel     Pay Later  ...   \n\n       hotel_brand_code hotel_chain_code  hotel_city_code  \\\n138               131.0            271.0             2538   \n200                63.0            291.0             1584   \n225               282.0             55.0             2796   \n235               745.0             94.0             2797   \n412               918.0            587.0             1014   \n...                 ...              ...              ...   \n56263             922.0            587.0              183   \n56332             463.0            103.0             1403   \n56435             777.0            181.0             1783   \n56514             278.0            473.0             2477   \n58328               9.0            583.0             2249   \n\n      customer_nationality_codes  accommadation_type_name_codes  \\\n138                           58                              4   \n200                            1                              5   \n225                           21                              5   \n235                           32                              5   \n412                           58                              5   \n...                          ...                            ...   \n56263                         58                              5   \n56332                         32                              5   \n56435                         20                              5   \n56514                         54                              5   \n58328                         49                              5   \n\n       hotel_id_codes  charge_option_codes  cancellation_policy_code_codes  \\\n138                23                    1                              68   \n200              1347                    1                              40   \n225               876                    0                              66   \n235              1597                    0                              45   \n412               349                    0                              49   \n...               ...                  ...                             ...   \n56263             770                    0                             114   \n56332              69                    0                              45   \n56435             427                    1                              38   \n56514            1450                    0                             132   \n58328             768                    0                              39   \n\n       label  train  \n138    False   True  \n200     True  False  \n225    False  False  \n235     True  False  \n412     True   True  \n...      ...    ...  \n56263   True   True  \n56332  False   True  \n56435   True   True  \n56514   True   True  \n58328   True  False  \n\n[255 rows x 46 columns]",
      "text/html": "<div>\n<style scoped>\n    .dataframe tbody tr th:only-of-type {\n        vertical-align: middle;\n    }\n\n    .dataframe tbody tr th {\n        vertical-align: top;\n    }\n\n    .dataframe thead th {\n        text-align: right;\n    }\n</style>\n<table border=\"1\" class=\"dataframe\">\n  <thead>\n    <tr style=\"text-align: right;\">\n      <th></th>\n      <th>h_booking_id</th>\n      <th>booking_datetime</th>\n      <th>checkin_date</th>\n      <th>checkout_date</th>\n      <th>hotel_id</th>\n      <th>hotel_country_code</th>\n      <th>hotel_live_date</th>\n      <th>hotel_star_rating</th>\n      <th>accommadation_type_name</th>\n      <th>charge_option</th>\n      <th>...</th>\n      <th>hotel_brand_code</th>\n      <th>hotel_chain_code</th>\n      <th>hotel_city_code</th>\n      <th>customer_nationality_codes</th>\n      <th>accommadation_type_name_codes</th>\n      <th>hotel_id_codes</th>\n      <th>charge_option_codes</th>\n      <th>cancellation_policy_code_codes</th>\n      <th>label</th>\n      <th>train</th>\n    </tr>\n  </thead>\n  <tbody>\n    <tr>\n      <th>138</th>\n      <td>-9178271518124899741</td>\n      <td>2018-06-13 01:39:00</td>\n      <td>2018-09-20 00:00:00</td>\n      <td>2018-09-24 00:00:00</td>\n      <td>2863</td>\n      <td>GB</td>\n      <td>2011-08-31 16:49:00</td>\n      <td>3.0</td>\n      <td>Hostel</td>\n      <td>Pay Now</td>\n      <td>...</td>\n      <td>131.0</td>\n      <td>271.0</td>\n      <td>2538</td>\n      <td>58</td>\n      <td>4</td>\n      <td>23</td>\n      <td>1</td>\n      <td>68</td>\n      <td>False</td>\n      <td>True</td>\n    </tr>\n    <tr>\n      <th>200</th>\n      <td>-9158997573325902499</td>\n      <td>2018-08-19 06:24:00</td>\n      <td>2018-09-15 00:00:00</td>\n      <td>2018-09-17 00:00:00</td>\n      <td>3129374</td>\n      <td>AU</td>\n      <td>2017-11-06 16:37:00</td>\n      <td>4.5</td>\n      <td>Hotel</td>\n      <td>Pay Now</td>\n      <td>...</td>\n      <td>63.0</td>\n      <td>291.0</td>\n      <td>1584</td>\n      <td>1</td>\n      <td>5</td>\n      <td>1347</td>\n      <td>1</td>\n      <td>40</td>\n      <td>True</td>\n      <td>False</td>\n    </tr>\n    <tr>\n      <th>225</th>\n      <td>-9150457930144649121</td>\n      <td>2018-07-24 01:47:00</td>\n      <td>2018-08-18 00:00:00</td>\n      <td>2018-08-19 00:00:00</td>\n      <td>1602888</td>\n      <td>IN</td>\n      <td>2017-03-17 11:34:00</td>\n      <td>5.0</td>\n      <td>Hotel</td>\n      <td>Pay Later</td>\n      <td>...</td>\n      <td>282.0</td>\n      <td>55.0</td>\n      <td>2796</td>\n      <td>21</td>\n      <td>5</td>\n      <td>876</td>\n      <td>0</td>\n      <td>66</td>\n      <td>False</td>\n      <td>False</td>\n    </tr>\n    <tr>\n      <th>235</th>\n      <td>-9148315339177572723</td>\n      <td>2018-08-13 22:49:00</td>\n      <td>2018-08-18 00:00:00</td>\n      <td>2018-08-19 00:00:00</td>\n      <td>4910396</td>\n      <td>MY</td>\n      <td>2018-04-13 19:52:00</td>\n      <td>2.0</td>\n      <td>Hotel</td>\n      <td>Pay Later</td>\n      <td>...</td>\n      <td>745.0</td>\n      <td>94.0</td>\n      <td>2797</td>\n      <td>32</td>\n      <td>5</td>\n      <td>1597</td>\n      <td>0</td>\n      <td>45</td>\n      <td>True</td>\n      <td>False</td>\n    </tr>\n    <tr>\n      <th>412</th>\n      <td>-9093276767136234643</td>\n      <td>2018-06-27 23:39:00</td>\n      <td>2018-09-19 00:00:00</td>\n      <td>2018-09-20 00:00:00</td>\n      <td>168985</td>\n      <td>JP</td>\n      <td>2009-12-19 08:20:00</td>\n      <td>3.5</td>\n      <td>Hotel</td>\n      <td>Pay Later</td>\n      <td>...</td>\n      <td>918.0</td>\n      <td>587.0</td>\n      <td>1014</td>\n      <td>58</td>\n      <td>5</td>\n      <td>349</td>\n      <td>0</td>\n      <td>49</td>\n      <td>True</td>\n      <td>True</td>\n    </tr>\n    <tr>\n      <th>...</th>\n      <td>...</td>\n      <td>...</td>\n      <td>...</td>\n      <td>...</td>\n      <td>...</td>\n      <td>...</td>\n      <td>...</td>\n      <td>...</td>\n      <td>...</td>\n      <td>...</td>\n      <td>...</td>\n      <td>...</td>\n      <td>...</td>\n      <td>...</td>\n      <td>...</td>\n      <td>...</td>\n      <td>...</td>\n      <td>...</td>\n      <td>...</td>\n      <td>...</td>\n      <td>...</td>\n    </tr>\n    <tr>\n      <th>56263</th>\n      <td>8466705461484802320</td>\n      <td>2018-07-27 16:15:00</td>\n      <td>2018-08-24 00:00:00</td>\n      <td>2018-08-26 00:00:00</td>\n      <td>1105052</td>\n      <td>JP</td>\n      <td>2015-11-25 11:59:00</td>\n      <td>3.0</td>\n      <td>Hotel</td>\n      <td>Pay Later</td>\n      <td>...</td>\n      <td>922.0</td>\n      <td>587.0</td>\n      <td>183</td>\n      <td>58</td>\n      <td>5</td>\n      <td>770</td>\n      <td>0</td>\n      <td>114</td>\n      <td>True</td>\n      <td>True</td>\n    </tr>\n    <tr>\n      <th>56332</th>\n      <td>8488847189900316785</td>\n      <td>2018-07-10 12:45:00</td>\n      <td>2018-08-25 00:00:00</td>\n      <td>2018-08-26 00:00:00</td>\n      <td>9358</td>\n      <td>JP</td>\n      <td>2009-06-28 02:02:00</td>\n      <td>4.0</td>\n      <td>Hotel</td>\n      <td>Pay Later</td>\n      <td>...</td>\n      <td>463.0</td>\n      <td>103.0</td>\n      <td>1403</td>\n      <td>32</td>\n      <td>5</td>\n      <td>69</td>\n      <td>0</td>\n      <td>45</td>\n      <td>False</td>\n      <td>True</td>\n    </tr>\n    <tr>\n      <th>56435</th>\n      <td>8520771494965438804</td>\n      <td>2018-08-18 21:31:00</td>\n      <td>2018-08-20 00:00:00</td>\n      <td>2018-08-21 00:00:00</td>\n      <td>240484</td>\n      <td>JP</td>\n      <td>2010-11-18 07:08:00</td>\n      <td>3.5</td>\n      <td>Hotel</td>\n      <td>Pay Now</td>\n      <td>...</td>\n      <td>777.0</td>\n      <td>181.0</td>\n      <td>1783</td>\n      <td>20</td>\n      <td>5</td>\n      <td>427</td>\n      <td>1</td>\n      <td>38</td>\n      <td>True</td>\n      <td>True</td>\n    </tr>\n    <tr>\n      <th>56514</th>\n      <td>8546579788317624088</td>\n      <td>2018-08-02 11:58:00</td>\n      <td>2018-09-13 00:00:00</td>\n      <td>2018-09-18 00:00:00</td>\n      <td>3320368</td>\n      <td>TH</td>\n      <td>2017-11-10 09:25:00</td>\n      <td>4.0</td>\n      <td>Hotel</td>\n      <td>Pay Later</td>\n      <td>...</td>\n      <td>278.0</td>\n      <td>473.0</td>\n      <td>2477</td>\n      <td>54</td>\n      <td>5</td>\n      <td>1450</td>\n      <td>0</td>\n      <td>132</td>\n      <td>True</td>\n      <td>True</td>\n    </tr>\n    <tr>\n      <th>58328</th>\n      <td>9123584806569935439</td>\n      <td>2018-08-19 20:13:00</td>\n      <td>2018-09-20 00:00:00</td>\n      <td>2018-09-27 00:00:00</td>\n      <td>1095363</td>\n      <td>JP</td>\n      <td>2015-10-20 05:25:00</td>\n      <td>3.0</td>\n      <td>Hotel</td>\n      <td>Pay Later</td>\n      <td>...</td>\n      <td>9.0</td>\n      <td>583.0</td>\n      <td>2249</td>\n      <td>49</td>\n      <td>5</td>\n      <td>768</td>\n      <td>0</td>\n      <td>39</td>\n      <td>True</td>\n      <td>False</td>\n    </tr>\n  </tbody>\n</table>\n<p>255 rows × 46 columns</p>\n</div>"
     },
     "execution_count": 304,
     "metadata": {},
     "output_type": "execute_result"
    }
   ],
   "source": [
    "full_data[(full_data.cancellation_datetime > '2018-08-07') & (full_data.cancellation_datetime < '2018-08-20')]"
   ],
   "metadata": {
    "collapsed": false,
    "pycharm": {
     "name": "#%%\n"
    }
   }
  },
  {
   "cell_type": "code",
   "execution_count": 305,
   "outputs": [
    {
     "data": {
      "text/plain": "           h_booking_id     booking_datetime         checkin_date  \\\n2  -9217919187333201744  2018-11-25 21:44:00  2019-04-22 00:00:00   \n3  -9215699014988905507  2018-11-20 20:20:00  2018-12-16 00:00:00   \n5  -9209328318584438243  2018-11-07 18:33:00  2018-12-21 00:00:00   \n10 -9206569785675213125  2018-11-18 12:54:00  2018-12-28 00:00:00   \n27 -9162547391520652865  2018-11-17 21:38:00  2018-12-31 00:00:00   \n\n          checkout_date  hotel_id hotel_country_code      hotel_live_date  \\\n2   2019-04-23 00:00:00    400322                 JP  2012-10-02 13:54:00   \n3   2018-12-20 00:00:00   3135771                 PH  2017-11-06 17:05:00   \n5   2018-12-22 00:00:00     10602                 SG  2014-05-20 08:05:00   \n10  2018-12-29 00:00:00   2559374                 HK  2017-07-20 15:36:00   \n27  2019-01-02 00:00:00    185040                 JP  2010-05-03 08:59:00   \n\n    hotel_star_rating accommadation_type_name charge_option  ...  \\\n2                 3.0                   Hotel     Pay Later  ...   \n3                 5.0                  Resort       Pay Now  ...   \n5                 5.0                   Hotel       Pay Now  ...   \n10                4.0                   Hotel     Pay Later  ...   \n27                3.0                   Hotel     Pay Later  ...   \n\n    request_latecheckin request_highfloor  request_largebed request_twinbeds  \\\n2                   0.0               0.0               0.0              1.0   \n3                   0.0               1.0               1.0              0.0   \n5                   0.0               0.0               0.0              1.0   \n10                  0.0               1.0               0.0              0.0   \n27                  0.0               0.0               0.0              0.0   \n\n    request_airport  request_earlycheckin  hotel_area_code  hotel_brand_code  \\\n2               0.0                   0.0             2884             193.0   \n3               1.0                   0.0             2532             415.0   \n5               0.0                   0.0             2868             870.0   \n10              0.0                   0.0             1633             613.0   \n27              0.0                   0.0             4463             658.0   \n\n   hotel_chain_code hotel_city_code  \n2             344.0            2264  \n3             291.0            1405  \n5             551.0             437  \n10            355.0             142  \n27             50.0            2567  \n\n[5 rows x 38 columns]",
      "text/html": "<div>\n<style scoped>\n    .dataframe tbody tr th:only-of-type {\n        vertical-align: middle;\n    }\n\n    .dataframe tbody tr th {\n        vertical-align: top;\n    }\n\n    .dataframe thead th {\n        text-align: right;\n    }\n</style>\n<table border=\"1\" class=\"dataframe\">\n  <thead>\n    <tr style=\"text-align: right;\">\n      <th></th>\n      <th>h_booking_id</th>\n      <th>booking_datetime</th>\n      <th>checkin_date</th>\n      <th>checkout_date</th>\n      <th>hotel_id</th>\n      <th>hotel_country_code</th>\n      <th>hotel_live_date</th>\n      <th>hotel_star_rating</th>\n      <th>accommadation_type_name</th>\n      <th>charge_option</th>\n      <th>...</th>\n      <th>request_latecheckin</th>\n      <th>request_highfloor</th>\n      <th>request_largebed</th>\n      <th>request_twinbeds</th>\n      <th>request_airport</th>\n      <th>request_earlycheckin</th>\n      <th>hotel_area_code</th>\n      <th>hotel_brand_code</th>\n      <th>hotel_chain_code</th>\n      <th>hotel_city_code</th>\n    </tr>\n  </thead>\n  <tbody>\n    <tr>\n      <th>2</th>\n      <td>-9217919187333201744</td>\n      <td>2018-11-25 21:44:00</td>\n      <td>2019-04-22 00:00:00</td>\n      <td>2019-04-23 00:00:00</td>\n      <td>400322</td>\n      <td>JP</td>\n      <td>2012-10-02 13:54:00</td>\n      <td>3.0</td>\n      <td>Hotel</td>\n      <td>Pay Later</td>\n      <td>...</td>\n      <td>0.0</td>\n      <td>0.0</td>\n      <td>0.0</td>\n      <td>1.0</td>\n      <td>0.0</td>\n      <td>0.0</td>\n      <td>2884</td>\n      <td>193.0</td>\n      <td>344.0</td>\n      <td>2264</td>\n    </tr>\n    <tr>\n      <th>3</th>\n      <td>-9215699014988905507</td>\n      <td>2018-11-20 20:20:00</td>\n      <td>2018-12-16 00:00:00</td>\n      <td>2018-12-20 00:00:00</td>\n      <td>3135771</td>\n      <td>PH</td>\n      <td>2017-11-06 17:05:00</td>\n      <td>5.0</td>\n      <td>Resort</td>\n      <td>Pay Now</td>\n      <td>...</td>\n      <td>0.0</td>\n      <td>1.0</td>\n      <td>1.0</td>\n      <td>0.0</td>\n      <td>1.0</td>\n      <td>0.0</td>\n      <td>2532</td>\n      <td>415.0</td>\n      <td>291.0</td>\n      <td>1405</td>\n    </tr>\n    <tr>\n      <th>5</th>\n      <td>-9209328318584438243</td>\n      <td>2018-11-07 18:33:00</td>\n      <td>2018-12-21 00:00:00</td>\n      <td>2018-12-22 00:00:00</td>\n      <td>10602</td>\n      <td>SG</td>\n      <td>2014-05-20 08:05:00</td>\n      <td>5.0</td>\n      <td>Hotel</td>\n      <td>Pay Now</td>\n      <td>...</td>\n      <td>0.0</td>\n      <td>0.0</td>\n      <td>0.0</td>\n      <td>1.0</td>\n      <td>0.0</td>\n      <td>0.0</td>\n      <td>2868</td>\n      <td>870.0</td>\n      <td>551.0</td>\n      <td>437</td>\n    </tr>\n    <tr>\n      <th>10</th>\n      <td>-9206569785675213125</td>\n      <td>2018-11-18 12:54:00</td>\n      <td>2018-12-28 00:00:00</td>\n      <td>2018-12-29 00:00:00</td>\n      <td>2559374</td>\n      <td>HK</td>\n      <td>2017-07-20 15:36:00</td>\n      <td>4.0</td>\n      <td>Hotel</td>\n      <td>Pay Later</td>\n      <td>...</td>\n      <td>0.0</td>\n      <td>1.0</td>\n      <td>0.0</td>\n      <td>0.0</td>\n      <td>0.0</td>\n      <td>0.0</td>\n      <td>1633</td>\n      <td>613.0</td>\n      <td>355.0</td>\n      <td>142</td>\n    </tr>\n    <tr>\n      <th>27</th>\n      <td>-9162547391520652865</td>\n      <td>2018-11-17 21:38:00</td>\n      <td>2018-12-31 00:00:00</td>\n      <td>2019-01-02 00:00:00</td>\n      <td>185040</td>\n      <td>JP</td>\n      <td>2010-05-03 08:59:00</td>\n      <td>3.0</td>\n      <td>Hotel</td>\n      <td>Pay Later</td>\n      <td>...</td>\n      <td>0.0</td>\n      <td>0.0</td>\n      <td>0.0</td>\n      <td>0.0</td>\n      <td>0.0</td>\n      <td>0.0</td>\n      <td>4463</td>\n      <td>658.0</td>\n      <td>50.0</td>\n      <td>2567</td>\n    </tr>\n  </tbody>\n</table>\n<p>5 rows × 38 columns</p>\n</div>"
     },
     "execution_count": 305,
     "metadata": {},
     "output_type": "execute_result"
    }
   ],
   "source": [
    "test_data_w1 = pd.read_csv(r\"C:\\Users\\97250\\PycharmProjects\\IML.HUJI\\datasets\\test_set_week_1.csv\").dropna().drop_duplicates()\n",
    "test_data_w1.head()"
   ],
   "metadata": {
    "collapsed": false,
    "pycharm": {
     "name": "#%%\n"
    }
   }
  },
  {
   "cell_type": "code",
   "execution_count": 306,
   "outputs": [],
   "source": [
    "# convert accomodation type name to codes"
   ],
   "metadata": {
    "collapsed": false,
    "pycharm": {
     "name": "#%%\n"
    }
   }
  }
 ],
 "metadata": {
  "kernelspec": {
   "display_name": "Python 3",
   "language": "python",
   "name": "python3"
  },
  "language_info": {
   "codemirror_mode": {
    "name": "ipython",
    "version": 2
   },
   "file_extension": ".py",
   "mimetype": "text/x-python",
   "name": "python",
   "nbconvert_exporter": "python",
   "pygments_lexer": "ipython2",
   "version": "2.7.6"
  }
 },
 "nbformat": 4,
 "nbformat_minor": 0
}